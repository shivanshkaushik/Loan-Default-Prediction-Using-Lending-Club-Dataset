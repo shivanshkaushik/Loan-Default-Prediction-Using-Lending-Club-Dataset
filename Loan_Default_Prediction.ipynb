{
  "cells": [
    {
      "cell_type": "markdown",
      "metadata": {
        "id": "53fDIGOuTnmA"
      },
      "source": [
        "# Loan Default Prediction using Machine Learning"
      ]
    },
    {
      "cell_type": "code",
      "execution_count": null,
      "metadata": {
        "colab": {
          "base_uri": "https://localhost:8080/"
        },
        "id": "366DrY8KUqEc",
        "outputId": "e2f1ad9b-0861-417d-ee75-367a53ce247e"
      },
      "outputs": [
        {
          "output_type": "stream",
          "name": "stdout",
          "text": [
            "Drive already mounted at /content/drive; to attempt to forcibly remount, call drive.mount(\"/content/drive\", force_remount=True).\n"
          ]
        }
      ],
      "source": [
        "from google.colab import drive\n",
        "drive.mount('/content/drive')"
      ]
    },
    {
      "cell_type": "markdown",
      "metadata": {
        "id": "MFQpC-adUzLO"
      },
      "source": [
        "Importing necessary libraries:"
      ]
    },
    {
      "cell_type": "code",
      "execution_count": null,
      "metadata": {
        "id": "KOVS3Qz16Czc"
      },
      "outputs": [],
      "source": [
        "import pandas as pd\n",
        "import numpy as np\n",
        "from IPython import display\n",
        "import tensorflow as tf\n",
        "import torch.utils.data as torchdata\n",
        "from sklearn.preprocessing import StandardScaler\n",
        "from sklearn.model_selection import train_test_split\n",
        "from sklearn.datasets import load_iris\n",
        "from sklearn.linear_model import LogisticRegression\n",
        "from sklearn.metrics import classification_report\n",
        "from sklearn.metrics import precision_recall_fscore_support\n",
        "from sklearn.metrics import confusion_matrix\n",
        "import matplotlib.pyplot as plt\n",
        "from sklearn.ensemble import RandomForestClassifier\n",
        "from sklearn.tree import DecisionTreeClassifier\n",
        "from sklearn.neighbors import KNeighborsClassifier\n",
        "from sklearn.svm import SVC\n",
        "from sklearn.naive_bayes import GaussianNB\n",
        "import xgboost as xgb\n",
        "from collections import Counter\n",
        "from sklearn.cluster import KMeans\n",
        "from sklearn.ensemble import IsolationForest\n",
        "from sklearn.metrics import precision_score,recall_score"
      ]
    },
    {
      "cell_type": "markdown",
      "source": [
        "Loading the dataset into pandas dataframe"
      ],
      "metadata": {
        "id": "iyhLqLbNVE5S"
      }
    },
    {
      "cell_type": "code",
      "execution_count": null,
      "metadata": {
        "colab": {
          "base_uri": "https://localhost:8080/",
          "height": 423
        },
        "id": "6SRwZmmGW6Ys",
        "outputId": "685bfb72-92bf-40e9-c5d5-01013787d67c"
      },
      "outputs": [
        {
          "output_type": "stream",
          "name": "stderr",
          "text": [
            "/usr/local/lib/python3.7/dist-packages/IPython/core/interactiveshell.py:2882: DtypeWarning: Columns (0,19,49,59,118,129,130,131,134,135,136,139,145,146,147) have mixed types.Specify dtype option on import or set low_memory=False.\n",
            "  exec(code_obj, self.user_global_ns, self.user_ns)\n"
          ]
        },
        {
          "output_type": "execute_result",
          "data": {
            "text/plain": [
              "         id  member_id  loan_amnt  funded_amnt  funded_amnt_inv        term  \\\n",
              "0  68407277        NaN     3600.0       3600.0           3600.0   36 months   \n",
              "1  68355089        NaN    24700.0      24700.0          24700.0   36 months   \n",
              "2  68341763        NaN    20000.0      20000.0          20000.0   60 months   \n",
              "3  66310712        NaN    35000.0      35000.0          35000.0   60 months   \n",
              "4  68476807        NaN    10400.0      10400.0          10400.0   60 months   \n",
              "\n",
              "   int_rate  installment grade sub_grade  ... hardship_payoff_balance_amount  \\\n",
              "0     13.99       123.03     C        C4  ...                            NaN   \n",
              "1     11.99       820.28     C        C1  ...                            NaN   \n",
              "2     10.78       432.66     B        B4  ...                            NaN   \n",
              "3     14.85       829.90     C        C5  ...                            NaN   \n",
              "4     22.45       289.91     F        F1  ...                            NaN   \n",
              "\n",
              "  hardship_last_payment_amount disbursement_method  debt_settlement_flag  \\\n",
              "0                          NaN                Cash                     N   \n",
              "1                          NaN                Cash                     N   \n",
              "2                          NaN                Cash                     N   \n",
              "3                          NaN                Cash                     N   \n",
              "4                          NaN                Cash                     N   \n",
              "\n",
              "  debt_settlement_flag_date settlement_status settlement_date  \\\n",
              "0                       NaN               NaN             NaN   \n",
              "1                       NaN               NaN             NaN   \n",
              "2                       NaN               NaN             NaN   \n",
              "3                       NaN               NaN             NaN   \n",
              "4                       NaN               NaN             NaN   \n",
              "\n",
              "  settlement_amount settlement_percentage settlement_term  \n",
              "0               NaN                   NaN             NaN  \n",
              "1               NaN                   NaN             NaN  \n",
              "2               NaN                   NaN             NaN  \n",
              "3               NaN                   NaN             NaN  \n",
              "4               NaN                   NaN             NaN  \n",
              "\n",
              "[5 rows x 151 columns]"
            ],
            "text/html": [
              "\n",
              "  <div id=\"df-e235dfe1-9c9e-4c44-b095-0bfbf67085e4\">\n",
              "    <div class=\"colab-df-container\">\n",
              "      <div>\n",
              "<style scoped>\n",
              "    .dataframe tbody tr th:only-of-type {\n",
              "        vertical-align: middle;\n",
              "    }\n",
              "\n",
              "    .dataframe tbody tr th {\n",
              "        vertical-align: top;\n",
              "    }\n",
              "\n",
              "    .dataframe thead th {\n",
              "        text-align: right;\n",
              "    }\n",
              "</style>\n",
              "<table border=\"1\" class=\"dataframe\">\n",
              "  <thead>\n",
              "    <tr style=\"text-align: right;\">\n",
              "      <th></th>\n",
              "      <th>id</th>\n",
              "      <th>member_id</th>\n",
              "      <th>loan_amnt</th>\n",
              "      <th>funded_amnt</th>\n",
              "      <th>funded_amnt_inv</th>\n",
              "      <th>term</th>\n",
              "      <th>int_rate</th>\n",
              "      <th>installment</th>\n",
              "      <th>grade</th>\n",
              "      <th>sub_grade</th>\n",
              "      <th>...</th>\n",
              "      <th>hardship_payoff_balance_amount</th>\n",
              "      <th>hardship_last_payment_amount</th>\n",
              "      <th>disbursement_method</th>\n",
              "      <th>debt_settlement_flag</th>\n",
              "      <th>debt_settlement_flag_date</th>\n",
              "      <th>settlement_status</th>\n",
              "      <th>settlement_date</th>\n",
              "      <th>settlement_amount</th>\n",
              "      <th>settlement_percentage</th>\n",
              "      <th>settlement_term</th>\n",
              "    </tr>\n",
              "  </thead>\n",
              "  <tbody>\n",
              "    <tr>\n",
              "      <th>0</th>\n",
              "      <td>68407277</td>\n",
              "      <td>NaN</td>\n",
              "      <td>3600.0</td>\n",
              "      <td>3600.0</td>\n",
              "      <td>3600.0</td>\n",
              "      <td>36 months</td>\n",
              "      <td>13.99</td>\n",
              "      <td>123.03</td>\n",
              "      <td>C</td>\n",
              "      <td>C4</td>\n",
              "      <td>...</td>\n",
              "      <td>NaN</td>\n",
              "      <td>NaN</td>\n",
              "      <td>Cash</td>\n",
              "      <td>N</td>\n",
              "      <td>NaN</td>\n",
              "      <td>NaN</td>\n",
              "      <td>NaN</td>\n",
              "      <td>NaN</td>\n",
              "      <td>NaN</td>\n",
              "      <td>NaN</td>\n",
              "    </tr>\n",
              "    <tr>\n",
              "      <th>1</th>\n",
              "      <td>68355089</td>\n",
              "      <td>NaN</td>\n",
              "      <td>24700.0</td>\n",
              "      <td>24700.0</td>\n",
              "      <td>24700.0</td>\n",
              "      <td>36 months</td>\n",
              "      <td>11.99</td>\n",
              "      <td>820.28</td>\n",
              "      <td>C</td>\n",
              "      <td>C1</td>\n",
              "      <td>...</td>\n",
              "      <td>NaN</td>\n",
              "      <td>NaN</td>\n",
              "      <td>Cash</td>\n",
              "      <td>N</td>\n",
              "      <td>NaN</td>\n",
              "      <td>NaN</td>\n",
              "      <td>NaN</td>\n",
              "      <td>NaN</td>\n",
              "      <td>NaN</td>\n",
              "      <td>NaN</td>\n",
              "    </tr>\n",
              "    <tr>\n",
              "      <th>2</th>\n",
              "      <td>68341763</td>\n",
              "      <td>NaN</td>\n",
              "      <td>20000.0</td>\n",
              "      <td>20000.0</td>\n",
              "      <td>20000.0</td>\n",
              "      <td>60 months</td>\n",
              "      <td>10.78</td>\n",
              "      <td>432.66</td>\n",
              "      <td>B</td>\n",
              "      <td>B4</td>\n",
              "      <td>...</td>\n",
              "      <td>NaN</td>\n",
              "      <td>NaN</td>\n",
              "      <td>Cash</td>\n",
              "      <td>N</td>\n",
              "      <td>NaN</td>\n",
              "      <td>NaN</td>\n",
              "      <td>NaN</td>\n",
              "      <td>NaN</td>\n",
              "      <td>NaN</td>\n",
              "      <td>NaN</td>\n",
              "    </tr>\n",
              "    <tr>\n",
              "      <th>3</th>\n",
              "      <td>66310712</td>\n",
              "      <td>NaN</td>\n",
              "      <td>35000.0</td>\n",
              "      <td>35000.0</td>\n",
              "      <td>35000.0</td>\n",
              "      <td>60 months</td>\n",
              "      <td>14.85</td>\n",
              "      <td>829.90</td>\n",
              "      <td>C</td>\n",
              "      <td>C5</td>\n",
              "      <td>...</td>\n",
              "      <td>NaN</td>\n",
              "      <td>NaN</td>\n",
              "      <td>Cash</td>\n",
              "      <td>N</td>\n",
              "      <td>NaN</td>\n",
              "      <td>NaN</td>\n",
              "      <td>NaN</td>\n",
              "      <td>NaN</td>\n",
              "      <td>NaN</td>\n",
              "      <td>NaN</td>\n",
              "    </tr>\n",
              "    <tr>\n",
              "      <th>4</th>\n",
              "      <td>68476807</td>\n",
              "      <td>NaN</td>\n",
              "      <td>10400.0</td>\n",
              "      <td>10400.0</td>\n",
              "      <td>10400.0</td>\n",
              "      <td>60 months</td>\n",
              "      <td>22.45</td>\n",
              "      <td>289.91</td>\n",
              "      <td>F</td>\n",
              "      <td>F1</td>\n",
              "      <td>...</td>\n",
              "      <td>NaN</td>\n",
              "      <td>NaN</td>\n",
              "      <td>Cash</td>\n",
              "      <td>N</td>\n",
              "      <td>NaN</td>\n",
              "      <td>NaN</td>\n",
              "      <td>NaN</td>\n",
              "      <td>NaN</td>\n",
              "      <td>NaN</td>\n",
              "      <td>NaN</td>\n",
              "    </tr>\n",
              "  </tbody>\n",
              "</table>\n",
              "<p>5 rows × 151 columns</p>\n",
              "</div>\n",
              "      <button class=\"colab-df-convert\" onclick=\"convertToInteractive('df-e235dfe1-9c9e-4c44-b095-0bfbf67085e4')\"\n",
              "              title=\"Convert this dataframe to an interactive table.\"\n",
              "              style=\"display:none;\">\n",
              "        \n",
              "  <svg xmlns=\"http://www.w3.org/2000/svg\" height=\"24px\"viewBox=\"0 0 24 24\"\n",
              "       width=\"24px\">\n",
              "    <path d=\"M0 0h24v24H0V0z\" fill=\"none\"/>\n",
              "    <path d=\"M18.56 5.44l.94 2.06.94-2.06 2.06-.94-2.06-.94-.94-2.06-.94 2.06-2.06.94zm-11 1L8.5 8.5l.94-2.06 2.06-.94-2.06-.94L8.5 2.5l-.94 2.06-2.06.94zm10 10l.94 2.06.94-2.06 2.06-.94-2.06-.94-.94-2.06-.94 2.06-2.06.94z\"/><path d=\"M17.41 7.96l-1.37-1.37c-.4-.4-.92-.59-1.43-.59-.52 0-1.04.2-1.43.59L10.3 9.45l-7.72 7.72c-.78.78-.78 2.05 0 2.83L4 21.41c.39.39.9.59 1.41.59.51 0 1.02-.2 1.41-.59l7.78-7.78 2.81-2.81c.8-.78.8-2.07 0-2.86zM5.41 20L4 18.59l7.72-7.72 1.47 1.35L5.41 20z\"/>\n",
              "  </svg>\n",
              "      </button>\n",
              "      \n",
              "  <style>\n",
              "    .colab-df-container {\n",
              "      display:flex;\n",
              "      flex-wrap:wrap;\n",
              "      gap: 12px;\n",
              "    }\n",
              "\n",
              "    .colab-df-convert {\n",
              "      background-color: #E8F0FE;\n",
              "      border: none;\n",
              "      border-radius: 50%;\n",
              "      cursor: pointer;\n",
              "      display: none;\n",
              "      fill: #1967D2;\n",
              "      height: 32px;\n",
              "      padding: 0 0 0 0;\n",
              "      width: 32px;\n",
              "    }\n",
              "\n",
              "    .colab-df-convert:hover {\n",
              "      background-color: #E2EBFA;\n",
              "      box-shadow: 0px 1px 2px rgba(60, 64, 67, 0.3), 0px 1px 3px 1px rgba(60, 64, 67, 0.15);\n",
              "      fill: #174EA6;\n",
              "    }\n",
              "\n",
              "    [theme=dark] .colab-df-convert {\n",
              "      background-color: #3B4455;\n",
              "      fill: #D2E3FC;\n",
              "    }\n",
              "\n",
              "    [theme=dark] .colab-df-convert:hover {\n",
              "      background-color: #434B5C;\n",
              "      box-shadow: 0px 1px 3px 1px rgba(0, 0, 0, 0.15);\n",
              "      filter: drop-shadow(0px 1px 2px rgba(0, 0, 0, 0.3));\n",
              "      fill: #FFFFFF;\n",
              "    }\n",
              "  </style>\n",
              "\n",
              "      <script>\n",
              "        const buttonEl =\n",
              "          document.querySelector('#df-e235dfe1-9c9e-4c44-b095-0bfbf67085e4 button.colab-df-convert');\n",
              "        buttonEl.style.display =\n",
              "          google.colab.kernel.accessAllowed ? 'block' : 'none';\n",
              "\n",
              "        async function convertToInteractive(key) {\n",
              "          const element = document.querySelector('#df-e235dfe1-9c9e-4c44-b095-0bfbf67085e4');\n",
              "          const dataTable =\n",
              "            await google.colab.kernel.invokeFunction('convertToInteractive',\n",
              "                                                     [key], {});\n",
              "          if (!dataTable) return;\n",
              "\n",
              "          const docLinkHtml = 'Like what you see? Visit the ' +\n",
              "            '<a target=\"_blank\" href=https://colab.research.google.com/notebooks/data_table.ipynb>data table notebook</a>'\n",
              "            + ' to learn more about interactive tables.';\n",
              "          element.innerHTML = '';\n",
              "          dataTable['output_type'] = 'display_data';\n",
              "          await google.colab.output.renderOutput(dataTable, element);\n",
              "          const docLink = document.createElement('div');\n",
              "          docLink.innerHTML = docLinkHtml;\n",
              "          element.appendChild(docLink);\n",
              "        }\n",
              "      </script>\n",
              "    </div>\n",
              "  </div>\n",
              "  "
            ]
          },
          "metadata": {},
          "execution_count": 3
        }
      ],
      "source": [
        "accepted_path = '/content/drive/MyDrive/Data/LendingClubDataset/accepted_2007_to_2018Q4.csv'\n",
        "data=pd.read_csv(accepted_path)\n",
        "accepted=data[:][:200000]\n",
        "accepted.head()"
      ]
    },
    {
      "cell_type": "code",
      "source": [
        "len(data)"
      ],
      "metadata": {
        "colab": {
          "base_uri": "https://localhost:8080/"
        },
        "id": "LlAO2UxZZKrg",
        "outputId": "dcec9c0c-9ea7-4b5d-acb8-85937ba9e4be"
      },
      "execution_count": null,
      "outputs": [
        {
          "output_type": "execute_result",
          "data": {
            "text/plain": [
              "2260701"
            ]
          },
          "metadata": {},
          "execution_count": 71
        }
      ]
    },
    {
      "cell_type": "markdown",
      "metadata": {
        "id": "3uOTP_Zvqxt9"
      },
      "source": [
        "Transforming target 'loan_status' column. Keeping only the rows with loan_status as 'Charged Off' or 'Fully Paid':"
      ]
    },
    {
      "cell_type": "code",
      "execution_count": null,
      "metadata": {
        "id": "3EFj4kpHbbq1"
      },
      "outputs": [],
      "source": [
        "accepted = accepted[(accepted[\"loan_status\"] == \"Fully Paid\") |\n",
        "(accepted[\"loan_status\"] == \"Charged Off\")]\n",
        "mapping_dictionary = {\"loan_status\":{ \"Fully Paid\": 0, \"Charged Off\": 1}}\n",
        "accepted = accepted.replace(mapping_dictionary)"
      ]
    },
    {
      "cell_type": "markdown",
      "metadata": {
        "id": "0nyx1rN9rGwn"
      },
      "source": [
        "Removing columns with more than 5% missing values:"
      ]
    },
    {
      "cell_type": "code",
      "execution_count": null,
      "metadata": {
        "id": "YlNB5bKII7XX"
      },
      "outputs": [],
      "source": [
        "percent_missing = accepted.isnull().sum() * 100 / len(accepted)\n",
        "missing_value_df = pd.DataFrame({'column_name': accepted.columns,\n",
        "                                 'percent_missing': percent_missing})\n",
        "missing_col=missing_value_df[missing*_value_df['percent_missing']>10]['column_name']\n",
        "missing_col_arr=np.array(missing_col)\n",
        "accepted=accepted.drop(missing_col_arr,axis=1)"
      ]
    },
    {
      "cell_type": "markdown",
      "metadata": {
        "id": "x85XEkWR5jO2"
      },
      "source": [
        "Removing fields unrelated to the 'loan_status' classification:"
      ]
    },
    {
      "cell_type": "code",
      "execution_count": null,
      "metadata": {
        "id": "_rVkyyDA5maB"
      },
      "outputs": [],
      "source": [
        "accepted=accepted.drop(['id', 'zip_code','issue_d','url'],axis=1)"
      ]
    },
    {
      "cell_type": "markdown",
      "metadata": {
        "id": "3WEgJdu-HMQO"
      },
      "source": [
        "Removing features that leak information from the future:"
      ]
    },
    {
      "cell_type": "code",
      "execution_count": null,
      "metadata": {
        "id": "xrwcpg_fHObr"
      },
      "outputs": [],
      "source": [
        "accepted=accepted.drop(['funded_amnt','funded_amnt_inv','out_prncp','out_prncp_inv','total_pymnt','total_pymnt_inv','total_rec_prncp','total_rec_int','total_rec_late_fee','recoveries','collection_recovery_fee','last_pymnt_d','last_pymnt_amnt','last_fico_range_low','last_fico_range_high','disbursement_method','last_credit_pull_d','acc_now_delinq','bc_util',\n",
        " 'num_op_rev_tl', 'num_rev_accts', 'num_tl_120dpd_2m', 'num_tl_30dpd', 'percent_bc_gt_75',\n",
        "       'total_bal_ex_mort', 'total_il_high_credit_limit','hardship_flag', 'debt_settlement_flag'],axis=1)"
      ]
    },
    {
      "cell_type": "markdown",
      "metadata": {
        "id": "9uhcAriIwwcV"
      },
      "source": [
        "**Processing categorical features:**"
      ]
    },
    {
      "cell_type": "code",
      "execution_count": null,
      "metadata": {
        "colab": {
          "base_uri": "https://localhost:8080/"
        },
        "id": "TcbBOBZghJu1",
        "outputId": "700c9d77-e99e-4e97-e701-80b011d0c605"
      },
      "outputs": [
        {
          "output_type": "execute_result",
          "data": {
            "text/plain": [
              "loan_amnt                     float64\n",
              "term                           object\n",
              "int_rate                      float64\n",
              "installment                   float64\n",
              "grade                          object\n",
              "sub_grade                      object\n",
              "emp_title                      object\n",
              "emp_length                     object\n",
              "home_ownership                 object\n",
              "annual_inc                    float64\n",
              "verification_status            object\n",
              "loan_status                     int64\n",
              "pymnt_plan                     object\n",
              "purpose                        object\n",
              "title                          object\n",
              "addr_state                     object\n",
              "dti                           float64\n",
              "delinq_2yrs                   float64\n",
              "earliest_cr_line               object\n",
              "fico_range_low                float64\n",
              "fico_range_high               float64\n",
              "inq_last_6mths                float64\n",
              "open_acc                      float64\n",
              "pub_rec                       float64\n",
              "revol_bal                     float64\n",
              "revol_util                    float64\n",
              "total_acc                     float64\n",
              "initial_list_status            object\n",
              "collections_12_mths_ex_med    float64\n",
              "policy_code                   float64\n",
              "application_type               object\n",
              "tot_coll_amt                  float64\n",
              "tot_cur_bal                   float64\n",
              "total_rev_hi_lim              float64\n",
              "acc_open_past_24mths          float64\n",
              "avg_cur_bal                   float64\n",
              "bc_open_to_buy                float64\n",
              "chargeoff_within_12_mths      float64\n",
              "delinq_amnt                   float64\n",
              "mo_sin_old_il_acct            float64\n",
              "mo_sin_old_rev_tl_op          float64\n",
              "mo_sin_rcnt_rev_tl_op         float64\n",
              "mo_sin_rcnt_tl                float64\n",
              "mort_acc                      float64\n",
              "mths_since_recent_bc          float64\n",
              "num_accts_ever_120_pd         float64\n",
              "num_actv_bc_tl                float64\n",
              "num_actv_rev_tl               float64\n",
              "num_bc_sats                   float64\n",
              "num_bc_tl                     float64\n",
              "num_il_tl                     float64\n",
              "num_rev_tl_bal_gt_0           float64\n",
              "num_sats                      float64\n",
              "num_tl_90g_dpd_24m            float64\n",
              "num_tl_op_past_12m            float64\n",
              "pct_tl_nvr_dlq                float64\n",
              "pub_rec_bankruptcies          float64\n",
              "tax_liens                     float64\n",
              "tot_hi_cred_lim               float64\n",
              "total_bc_limit                float64\n",
              "dtype: object"
            ]
          },
          "metadata": {},
          "execution_count": 8
        }
      ],
      "source": [
        "accepted.dtypes"
      ]
    },
    {
      "cell_type": "markdown",
      "metadata": {
        "id": "ADVaGgZjOq8B"
      },
      "source": [
        "Plotting histogram of 'term' field:"
      ]
    },
    {
      "cell_type": "code",
      "execution_count": null,
      "metadata": {
        "colab": {
          "base_uri": "https://localhost:8080/",
          "height": 285
        },
        "id": "89dKPEm7sbFC",
        "outputId": "4e89c7e8-e020-435e-a450-8e5d9ef49002"
      },
      "outputs": [
        {
          "output_type": "display_data",
          "data": {
            "text/plain": [
              "<Figure size 432x288 with 1 Axes>"
            ],
            "image/png": "[encoded data removed]"
          },
          "metadata": {
            "needs_background": "light"
          }
        },
        {
          "output_type": "stream",
          "name": "stdout",
          "text": [
            "Null Values: 0\n"
          ]
        }
      ],
      "source": [
        "plt.hist(accepted['term'])\n",
        "plt.show()\n",
        "print(\"Null Values:\",accepted['term'].isnull().sum())"
      ]
    },
    {
      "cell_type": "markdown",
      "metadata": {
        "id": "reRTusCGPCvN"
      },
      "source": [
        "As seen above, 'term' is a nominal categorical field and can be easily transformed using one-hot encoding."
      ]
    },
    {
      "cell_type": "markdown",
      "metadata": {
        "id": "A6NlUCP-PLi9"
      },
      "source": [
        "Plotting histogram of 'grade':"
      ]
    },
    {
      "cell_type": "code",
      "execution_count": null,
      "metadata": {
        "colab": {
          "base_uri": "https://localhost:8080/",
          "height": 283
        },
        "id": "lga4Ef4S0yA6",
        "outputId": "eec42e69-bfd7-4e01-eb40-36ad9d251161"
      },
      "outputs": [
        {
          "output_type": "display_data",
          "data": {
            "text/plain": [
              "<Figure size 432x288 with 1 Axes>"
            ],
            "image/png": "[encoded data removed]"
          },
          "metadata": {
            "needs_background": "light"
          }
        },
        {
          "output_type": "stream",
          "name": "stdout",
          "text": [
            "Null Values: 0\n"
          ]
        }
      ],
      "source": [
        "plt.hist(accepted['grade'])\n",
        "plt.show()\n",
        "print(\"Null Values:\",accepted['grade'].isnull().sum())"
      ]
    },
    {
      "cell_type": "markdown",
      "metadata": {
        "id": "w3H65akuPR5Y"
      },
      "source": [
        "'grade' is an ordinal categorical feature and can be beneficial for classification as seen in the data dictionary description of the field."
      ]
    },
    {
      "cell_type": "markdown",
      "metadata": {
        "id": "7lNJF3BcOpSl"
      },
      "source": [
        "Plotting 'sub_grade':"
      ]
    },
    {
      "cell_type": "code",
      "execution_count": null,
      "metadata": {
        "colab": {
          "base_uri": "https://localhost:8080/",
          "height": 265
        },
        "id": "txd3FTXp1Smb",
        "outputId": "f00db20b-7470-4043-88ff-ec9c0e1d45dd"
      },
      "outputs": [
        {
          "output_type": "display_data",
          "data": {
            "text/plain": [
              "<Figure size 432x288 with 1 Axes>"
            ],
            "image/png": "[encoded data removed]"
          },
          "metadata": {
            "needs_background": "light"
          }
        }
      ],
      "source": [
        "plt.hist(accepted['sub_grade'])\n",
        "plt.show()\n",
        "accepted=accepted.drop('sub_grade',axis=1)"
      ]
    },
    {
      "cell_type": "markdown",
      "metadata": {
        "id": "CVy4ZIHSPkd3"
      },
      "source": [
        "'sub_grade' have a lot of unique values and is basically a sub-child of the 'grade' column. I will keep the 'grade' field which is a broader classfication and will remove 'sub_grade' field."
      ]
    },
    {
      "cell_type": "markdown",
      "metadata": {
        "id": "eGdhYR_FP_nS"
      },
      "source": [
        "Printing number of unique values in 'emp_title'"
      ]
    },
    {
      "cell_type": "code",
      "execution_count": null,
      "metadata": {
        "colab": {
          "base_uri": "https://localhost:8080/"
        },
        "id": "453faL5h3dVW",
        "outputId": "894bed2a-8e53-4ed4-e3c4-30b85a7b94f1"
      },
      "outputs": [
        {
          "output_type": "stream",
          "name": "stdout",
          "text": [
            "59467\n"
          ]
        }
      ],
      "source": [
        "print(len(accepted['emp_title'].unique()))\n",
        "accepted=accepted.drop('emp_title',axis=1)"
      ]
    },
    {
      "cell_type": "markdown",
      "metadata": {
        "id": "EYJsPMNiQJQ6"
      },
      "source": [
        "'emp_title' is a nominal field and can be useful for loan status classification but encoding a nominal feature with such a large number of unique values will result in an unusually large number of features which will confuse our classifier."
      ]
    },
    {
      "cell_type": "markdown",
      "metadata": {
        "id": "2XQL66b7QfBg"
      },
      "source": [
        "Printing the number of unique 'emp_length' values:"
      ]
    },
    {
      "cell_type": "code",
      "execution_count": null,
      "metadata": {
        "colab": {
          "base_uri": "https://localhost:8080/"
        },
        "id": "xWBJ0Dxr6HNN",
        "outputId": "bb110571-740f-4d36-9728-dfe44efc65f0"
      },
      "outputs": [
        {
          "output_type": "execute_result",
          "data": {
            "text/plain": [
              "12"
            ]
          },
          "metadata": {},
          "execution_count": 13
        }
      ],
      "source": [
        "len(accepted['emp_length'].unique())"
      ]
    },
    {
      "cell_type": "markdown",
      "metadata": {
        "id": "jkGD9ZarQkZE"
      },
      "source": [
        "'emp_length' is an ordinal feature and can be useful for classification"
      ]
    },
    {
      "cell_type": "markdown",
      "metadata": {
        "id": "Rjt8edhMQqf9"
      },
      "source": [
        "plotting hist of 'home_ownership':"
      ]
    },
    {
      "cell_type": "code",
      "execution_count": null,
      "metadata": {
        "colab": {
          "base_uri": "https://localhost:8080/",
          "height": 283
        },
        "id": "TfxmXb6266Bb",
        "outputId": "4baf3d84-121c-4c0e-df51-c359674ce4bf"
      },
      "outputs": [
        {
          "output_type": "display_data",
          "data": {
            "text/plain": [
              "<Figure size 432x288 with 1 Axes>"
            ],
            "image/png": "[encoded data removed]"
          },
          "metadata": {
            "needs_background": "light"
          }
        },
        {
          "output_type": "stream",
          "name": "stdout",
          "text": [
            "Null Values: 0\n"
          ]
        }
      ],
      "source": [
        "plt.hist(accepted['home_ownership'])\n",
        "plt.show()\n",
        "print(\"Null Values:\",accepted['home_ownership'].isnull().sum())"
      ]
    },
    {
      "cell_type": "markdown",
      "metadata": {
        "id": "5VHq7kTIRFU8"
      },
      "source": [
        "'home_ownership' is a nominal field and can be useful for classification"
      ]
    },
    {
      "cell_type": "markdown",
      "metadata": {
        "id": "xTASTYPl3ikl"
      },
      "source": [
        "Plotting histogram of 'verification_status':"
      ]
    },
    {
      "cell_type": "code",
      "execution_count": null,
      "metadata": {
        "colab": {
          "base_uri": "https://localhost:8080/",
          "height": 283
        },
        "id": "yYCHdWrP7IyA",
        "outputId": "9176ad0a-512d-427e-8d9d-0d3530df1fad"
      },
      "outputs": [
        {
          "output_type": "display_data",
          "data": {
            "text/plain": [
              "<Figure size 432x288 with 1 Axes>"
            ],
            "image/png": "[encoded data removed]"
          },
          "metadata": {
            "needs_background": "light"
          }
        },
        {
          "output_type": "stream",
          "name": "stdout",
          "text": [
            "Null Values: 0\n"
          ]
        }
      ],
      "source": [
        "plt.hist(accepted['verification_status'])\n",
        "plt.show()\n",
        "print(\"Null Values:\",accepted['verification_status'].isnull().sum())"
      ]
    },
    {
      "cell_type": "markdown",
      "metadata": {
        "id": "7rmVwqxV34Cd"
      },
      "source": [
        "Plotting histogram of 'pymnt_plan':"
      ]
    },
    {
      "cell_type": "code",
      "execution_count": null,
      "metadata": {
        "colab": {
          "base_uri": "https://localhost:8080/",
          "height": 265
        },
        "id": "5QLLjkIT7SNy",
        "outputId": "73feccdd-ef02-44dd-9b6b-4c076e2be361"
      },
      "outputs": [
        {
          "output_type": "display_data",
          "data": {
            "text/plain": [
              "<Figure size 432x288 with 1 Axes>"
            ],
            "image/png": "[encoded data removed]"
          },
          "metadata": {
            "needs_background": "light"
          }
        }
      ],
      "source": [
        "plt.hist(accepted['pymnt_plan'])\n",
        "plt.show()\n",
        "accepted=accepted.drop('pymnt_plan',axis=1)"
      ]
    },
    {
      "cell_type": "markdown",
      "metadata": {
        "id": "7Cwp97Kj4AYD"
      },
      "source": [
        "Removing 'pymnt_plan' column as it has only one unique value."
      ]
    },
    {
      "cell_type": "markdown",
      "metadata": {
        "id": "P3ebYJ7P4GH2"
      },
      "source": [
        "Plotting histogram of 'purpose' column:"
      ]
    },
    {
      "cell_type": "code",
      "execution_count": null,
      "metadata": {
        "colab": {
          "base_uri": "https://localhost:8080/",
          "height": 284
        },
        "id": "x_AUbJc47B5d",
        "outputId": "e7d3e2eb-8e17-47e5-9ee3-9840da542f64"
      },
      "outputs": [
        {
          "output_type": "display_data",
          "data": {
            "text/plain": [
              "<Figure size 432x288 with 1 Axes>"
            ],
            "image/png": "[encoded data removed]"
          },
          "metadata": {
            "needs_background": "light"
          }
        },
        {
          "output_type": "stream",
          "name": "stdout",
          "text": [
            "Null Values: 0\n"
          ]
        }
      ],
      "source": [
        "plt.hist(accepted['purpose'])\n",
        "plt.show()\n",
        "accepted['purpose'].unique()\n",
        "print(\"Null Values:\",accepted['purpose'].isnull().sum())"
      ]
    },
    {
      "cell_type": "markdown",
      "metadata": {
        "id": "_R54KEr64NBM"
      },
      "source": [
        "Printing unique values in the 'title' column:"
      ]
    },
    {
      "cell_type": "code",
      "execution_count": null,
      "metadata": {
        "colab": {
          "base_uri": "https://localhost:8080/"
        },
        "id": "I9by3rb7-J0s",
        "outputId": "60709868-82f8-461b-9e55-312900d2ffef"
      },
      "outputs": [
        {
          "output_type": "stream",
          "name": "stdout",
          "text": [
            "Null Values: 118\n"
          ]
        }
      ],
      "source": [
        "accepted['title'].unique()\n",
        "print(\"Null Values:\",accepted['title'].isnull().sum())"
      ]
    },
    {
      "cell_type": "markdown",
      "metadata": {
        "id": "VY1NFU_C4TSv"
      },
      "source": [
        "Removing 'title' column as it has almost the same values as the 'purpose' column and seems to be a sub classification of the 'purpose' field."
      ]
    },
    {
      "cell_type": "code",
      "execution_count": null,
      "metadata": {
        "id": "MZ06afAP-AkV"
      },
      "outputs": [],
      "source": [
        "accepted=accepted.drop('title',axis=1)"
      ]
    },
    {
      "cell_type": "markdown",
      "metadata": {
        "id": "erKXp1ts4caa"
      },
      "source": [
        "Plotting histogram of 'addr_state' column:\n",
        "\n"
      ]
    },
    {
      "cell_type": "code",
      "execution_count": null,
      "metadata": {
        "colab": {
          "base_uri": "https://localhost:8080/",
          "height": 265
        },
        "id": "_0UcwQ3z-1Rt",
        "outputId": "03ae7e9a-9d04-48ee-da86-83ba0ba0b597"
      },
      "outputs": [
        {
          "output_type": "display_data",
          "data": {
            "text/plain": [
              "<Figure size 432x288 with 1 Axes>"
            ],
            "image/png": "[encoded data removed]"
          },
          "metadata": {
            "needs_background": "light"
          }
        }
      ],
      "source": [
        "plt.hist(accepted['addr_state'])\n",
        "plt.show()\n",
        "accepted=accepted.drop('addr_state',axis=1)"
      ]
    },
    {
      "cell_type": "markdown",
      "metadata": {
        "id": "uEw1QwFF4jUO"
      },
      "source": [
        "'earliest_cr_line' is a date column. The following code will replace the date with the number of days from today."
      ]
    },
    {
      "cell_type": "code",
      "execution_count": null,
      "metadata": {
        "colab": {
          "base_uri": "https://localhost:8080/"
        },
        "id": "HcHmExBC-ted",
        "outputId": "bbefb20c-36de-4b99-81b8-04c455f9ad7e"
      },
      "outputs": [
        {
          "output_type": "stream",
          "name": "stdout",
          "text": [
            "0         Aug-2003\n",
            "1         Dec-1999\n",
            "2         Aug-2000\n",
            "4         Jun-1998\n",
            "5         Oct-1987\n",
            "            ...   \n",
            "199995    Sep-2003\n",
            "199996    Oct-2001\n",
            "199997    Jun-2002\n",
            "199998    Nov-1990\n",
            "199999    Mar-2005\n",
            "Name: earliest_cr_line, Length: 176082, dtype: object\n",
            "0         19\n",
            "1         23\n",
            "2         22\n",
            "4         24\n",
            "5         35\n",
            "          ..\n",
            "199995    19\n",
            "199996    21\n",
            "199997    20\n",
            "199998    32\n",
            "199999    17\n",
            "Name: earliest_cr_line, Length: 176082, dtype: int64\n"
          ]
        }
      ],
      "source": [
        "print(accepted['earliest_cr_line'])\n",
        "from datetime import date\n",
        "cr_line=[]\n",
        "for index, row in accepted.iterrows():\n",
        "    d=row['earliest_cr_line'].split('-')\n",
        "    today = date.today().year\n",
        "    cr_line=cr_line+[today-int(d[1])]\n",
        "accepted['earliest_cr_line']=cr_line\n",
        "print(accepted['earliest_cr_line'])"
      ]
    },
    {
      "cell_type": "markdown",
      "metadata": {
        "id": "OUt7fJpL5DJT"
      },
      "source": [
        "Plotting histogram of 'initial_list_status' column:"
      ]
    },
    {
      "cell_type": "code",
      "execution_count": null,
      "metadata": {
        "colab": {
          "base_uri": "https://localhost:8080/",
          "height": 265
        },
        "id": "CYgd2yclGidl",
        "outputId": "be6eeebd-70b3-4e57-b0f3-613c7ea948fe"
      },
      "outputs": [
        {
          "output_type": "display_data",
          "data": {
            "text/plain": [
              "<Figure size 432x288 with 1 Axes>"
            ],
            "image/png": "[encoded data removed]"
          },
          "metadata": {
            "needs_background": "light"
          }
        }
      ],
      "source": [
        "plt.hist(accepted['initial_list_status'])\n",
        "plt.show()"
      ]
    },
    {
      "cell_type": "markdown",
      "metadata": {
        "id": "VjLHkF1t5J1P"
      },
      "source": [
        "Plotting histogram of 'application_type' column:"
      ]
    },
    {
      "cell_type": "code",
      "execution_count": null,
      "metadata": {
        "colab": {
          "base_uri": "https://localhost:8080/",
          "height": 265
        },
        "id": "7YJwRbI3HMnF",
        "outputId": "a5f2837f-597c-497e-925a-f95701bda9b4"
      },
      "outputs": [
        {
          "output_type": "display_data",
          "data": {
            "text/plain": [
              "<Figure size 432x288 with 1 Axes>"
            ],
            "image/png": "[encoded data removed]"
          },
          "metadata": {
            "needs_background": "light"
          }
        }
      ],
      "source": [
        "plt.hist(accepted['application_type'])\n",
        "plt.show()\n",
        "accepted=accepted.drop('application_type',axis=1)"
      ]
    },
    {
      "cell_type": "markdown",
      "metadata": {
        "id": "GdnLYZYB5Msg"
      },
      "source": [
        "Removing 'application_type' column as almost all the rows have the same value."
      ]
    },
    {
      "cell_type": "markdown",
      "metadata": {
        "id": "TujgYWOX6tdd"
      },
      "source": [
        "**Encoding Ordinal Features**"
      ]
    },
    {
      "cell_type": "code",
      "execution_count": null,
      "metadata": {
        "id": "oa862gLkh44J"
      },
      "outputs": [],
      "source": [
        "mapping_dict={\n",
        "    \"grade\":{\n",
        "'A': 1,\n",
        "'B': 2,\n",
        "'C': 3,\n",
        "'D': 4,\n",
        "'E': 5,\n",
        "'F': 6,\n",
        "'G': 7\n",
        "}\n",
        "}\n",
        "accepted = accepted.replace(mapping_dict)"
      ]
    },
    {
      "cell_type": "code",
      "execution_count": null,
      "metadata": {
        "id": "-71f-Dg2lHMj"
      },
      "outputs": [],
      "source": [
        "mapping_dictionary = {\"emp_length\":{ \"< 1 year\": 0, \"1 year\": 1, \"2 years\": 2, \"3 years\": 3, \"4 years\": 4, \"5 years\": 5, \"6 years\": 6, \"7 years\": 7, \"8 years\": 8, \"9 years\": 9, \"10 years\": 10, \"10+ years\": 10}}\n",
        "accepted = accepted.replace(mapping_dictionary)"
      ]
    },
    {
      "cell_type": "markdown",
      "metadata": {
        "id": "HzWXbdUQrisL"
      },
      "source": [
        "**Removing fields with low correlation with target column**"
      ]
    },
    {
      "cell_type": "code",
      "execution_count": null,
      "metadata": {
        "id": "-ug8yNcErdvy"
      },
      "outputs": [],
      "source": [
        "corr_df=accepted.corr()"
      ]
    },
    {
      "cell_type": "code",
      "execution_count": null,
      "metadata": {
        "id": "kihVG4pQeaet"
      },
      "outputs": [],
      "source": [
        "rm_col=[]\n",
        "for index, row in corr_df.iterrows():\n",
        "    if abs(row['loan_status'])<0.02:\n",
        "        rm_col.append(index)\n",
        "        \n",
        "accepted=accepted.drop(rm_col,axis=1)"
      ]
    },
    {
      "cell_type": "markdown",
      "source": [
        "**Removing fields variance lower than 1**"
      ],
      "metadata": {
        "id": "qjkNXnvLXK-J"
      }
    },
    {
      "cell_type": "code",
      "execution_count": null,
      "metadata": {
        "id": "G2DVycdIUqEr",
        "colab": {
          "base_uri": "https://localhost:8080/"
        },
        "outputId": "693c1e1d-fa8e-40fd-cd67-69817b7a78b1"
      },
      "outputs": [
        {
          "output_type": "stream",
          "name": "stderr",
          "text": [
            "/usr/local/lib/python3.7/dist-packages/ipykernel_launcher.py:2: FutureWarning: Dropping of nuisance columns in DataFrame reductions (with 'numeric_only=None') is deprecated; in a future version this will raise TypeError.  Select only valid columns before calling the reduction.\n",
            "  \n"
          ]
        }
      ],
      "source": [
        "test=accepted.drop('loan_status',axis=1)\n",
        "test.var()<1\n",
        "accepted=accepted.drop(['inq_last_6mths','pub_rec','policy_code','pub_rec_bankruptcies'],axis=1)"
      ]
    },
    {
      "cell_type": "markdown",
      "source": [
        "**Removing features with high correlation among them**"
      ],
      "metadata": {
        "id": "l09fEF32ysue"
      }
    },
    {
      "cell_type": "code",
      "source": [
        "corr_df"
      ],
      "metadata": {
        "colab": {
          "base_uri": "https://localhost:8080/",
          "height": 1000
        },
        "id": "F1TPCCkWyr9O",
        "outputId": "1b0ebcdc-8257-4b31-d368-bcf67f17bc58"
      },
      "execution_count": null,
      "outputs": [
        {
          "output_type": "execute_result",
          "data": {
            "text/plain": [
              "                            loan_amnt  int_rate  installment     grade  \\\n",
              "loan_amnt                    1.000000  0.126362     0.954794  0.123619   \n",
              "int_rate                     0.126362  1.000000     0.102986  0.970542   \n",
              "installment                  0.954794  0.102986     1.000000  0.097590   \n",
              "grade                        0.123619  0.970542     0.097590  1.000000   \n",
              "emp_length                   0.078771 -0.020698     0.067105 -0.019600   \n",
              "annual_inc                   0.283096 -0.088346     0.278429 -0.085107   \n",
              "loan_status                  0.066721  0.308937     0.033792  0.303626   \n",
              "dti                          0.013943  0.189858     0.002784  0.183267   \n",
              "delinq_2yrs                 -0.017553  0.043968    -0.007929  0.043013   \n",
              "earliest_cr_line             0.158564 -0.157894     0.145933 -0.150406   \n",
              "fico_range_low               0.127747 -0.390896     0.093049 -0.378823   \n",
              "fico_range_high              0.127744 -0.390894     0.093046 -0.378820   \n",
              "inq_last_6mths              -0.024942  0.245380    -0.005416  0.239530   \n",
              "open_acc                     0.193755 -0.019674     0.174992 -0.018179   \n",
              "pub_rec                     -0.081420  0.063427    -0.070869  0.065552   \n",
              "revol_bal                    0.335337 -0.069883     0.322697 -0.068745   \n",
              "revol_util                   0.113986  0.190677     0.123266  0.181733   \n",
              "total_acc                    0.214975 -0.039144     0.187245 -0.035660   \n",
              "collections_12_mths_ex_med  -0.026343  0.019779    -0.021834  0.020856   \n",
              "policy_code                       NaN       NaN          NaN       NaN   \n",
              "tot_coll_amt                -0.020184  0.014620    -0.016588  0.015943   \n",
              "tot_cur_bal                  0.318890 -0.088601     0.295514 -0.084667   \n",
              "total_rev_hi_lim             0.362204 -0.205973     0.338371 -0.197478   \n",
              "acc_open_past_24mths         0.011617  0.246620     0.013926  0.240354   \n",
              "avg_cur_bal                  0.231673 -0.080911     0.215662 -0.076883   \n",
              "bc_open_to_buy               0.207379 -0.297399     0.182537 -0.282037   \n",
              "chargeoff_within_12_mths    -0.006663  0.012673    -0.004762  0.012207   \n",
              "delinq_amnt                 -0.003156  0.013369    -0.002162  0.012774   \n",
              "mo_sin_old_il_acct           0.123482 -0.087751     0.104626 -0.083517   \n",
              "mo_sin_old_rev_tl_op         0.171728 -0.176693     0.157433 -0.168539   \n",
              "mo_sin_rcnt_rev_tl_op        0.051140 -0.129389     0.044982 -0.125108   \n",
              "mo_sin_rcnt_tl               0.028557 -0.161948     0.027111 -0.157346   \n",
              "mort_acc                     0.230686 -0.078906     0.204488 -0.074191   \n",
              "mths_since_recent_bc         0.033760 -0.105979     0.028190 -0.103037   \n",
              "num_accts_ever_120_pd       -0.057454  0.052323    -0.047645  0.052359   \n",
              "num_actv_bc_tl               0.218542 -0.032885     0.210559 -0.031648   \n",
              "num_actv_rev_tl              0.170240  0.044303     0.166531  0.043368   \n",
              "num_bc_sats                  0.236286 -0.100125     0.220807 -0.095119   \n",
              "num_bc_tl                    0.215707 -0.122410     0.197155 -0.115757   \n",
              "num_il_tl                    0.077000  0.042056     0.057318  0.041341   \n",
              "num_rev_tl_bal_gt_0          0.168320  0.045848     0.164493  0.044596   \n",
              "num_sats                     0.194392 -0.020052     0.175441 -0.018665   \n",
              "num_tl_90g_dpd_24m          -0.036197  0.031314    -0.029522  0.032100   \n",
              "num_tl_op_past_12m          -0.022273  0.277870    -0.007659  0.270366   \n",
              "pct_tl_nvr_dlq               0.108698 -0.058287     0.089786 -0.059191   \n",
              "pub_rec_bankruptcies        -0.113125  0.073963    -0.108618  0.076689   \n",
              "tax_liens                   -0.000109  0.012398     0.008227  0.012711   \n",
              "tot_hi_cred_lim              0.343293 -0.125707     0.318101 -0.120292   \n",
              "total_bc_limit               0.396757 -0.268438     0.368598 -0.257777   \n",
              "\n",
              "                            emp_length  annual_inc  loan_status       dti  \\\n",
              "loan_amnt                     0.078771    0.283096     0.066721  0.013943   \n",
              "int_rate                     -0.020698   -0.088346     0.308937  0.189858   \n",
              "installment                   0.067105    0.278429     0.033792  0.002784   \n",
              "grade                        -0.019600   -0.085107     0.303626  0.183267   \n",
              "emp_length                    1.000000    0.055289    -0.011979  0.038878   \n",
              "annual_inc                    0.055289    1.000000    -0.040605 -0.155478   \n",
              "loan_status                  -0.011979   -0.040605     1.000000  0.114731   \n",
              "dti                           0.038878   -0.155478     0.114731  1.000000   \n",
              "delinq_2yrs                   0.019281    0.034695     0.017488 -0.013157   \n",
              "earliest_cr_line              0.211427    0.119647    -0.044482  0.035666   \n",
              "fico_range_low                0.037755    0.066197    -0.136506 -0.056549   \n",
              "fico_range_high               0.037755    0.066197    -0.136505 -0.056551   \n",
              "inq_last_6mths                0.000996    0.023757     0.090932  0.009929   \n",
              "open_acc                      0.039248    0.118036     0.042521  0.272517   \n",
              "pub_rec                       0.025545   -0.006900     0.028559 -0.051334   \n",
              "revol_bal                     0.083276    0.267293    -0.027319  0.124970   \n",
              "revol_util                    0.020094    0.040186     0.053587  0.160862   \n",
              "total_acc                     0.095742    0.150039     0.017323  0.216747   \n",
              "collections_12_mths_ex_med   -0.006729   -0.008145     0.013420 -0.006891   \n",
              "policy_code                        NaN         NaN          NaN       NaN   \n",
              "tot_coll_amt                  0.005000   -0.000744    -0.002439 -0.018281   \n",
              "tot_cur_bal                   0.099597    0.363193    -0.066545 -0.001648   \n",
              "total_rev_hi_lim              0.095002    0.268717    -0.062563  0.075135   \n",
              "acc_open_past_24mths          0.022264    0.047248     0.135290  0.149480   \n",
              "avg_cur_bal                   0.087861    0.281470    -0.078136 -0.117913   \n",
              "bc_open_to_buy                0.031786    0.134623    -0.087050 -0.074143   \n",
              "chargeoff_within_12_mths      0.011343    0.002711     0.006684  0.000218   \n",
              "delinq_amnt                   0.001008    0.005313     0.004086 -0.006612   \n",
              "mo_sin_old_il_acct            0.121445    0.098283    -0.021225  0.041602   \n",
              "mo_sin_old_rev_tl_op          0.206060    0.119928    -0.059310  0.039563   \n",
              "mo_sin_rcnt_rev_tl_op         0.019214    0.027574    -0.066386 -0.029006   \n",
              "mo_sin_rcnt_tl               -0.007167   -0.022923    -0.072864 -0.099706   \n",
              "mort_acc                      0.193274    0.197557    -0.063388 -0.038778   \n",
              "mths_since_recent_bc          0.041617    0.020608    -0.064359 -0.011907   \n",
              "num_accts_ever_120_pd         0.015804    0.011659     0.014596 -0.046308   \n",
              "num_actv_bc_tl                0.072392    0.105664     0.043110  0.162382   \n",
              "num_actv_rev_tl               0.124079    0.076523     0.075552  0.241526   \n",
              "num_bc_sats                   0.065203    0.118033     0.016705  0.108584   \n",
              "num_bc_tl                     0.108429    0.118974     0.000048  0.080429   \n",
              "num_il_tl                    -0.052867    0.079263     0.028356  0.214518   \n",
              "num_rev_tl_bal_gt_0           0.124943    0.075099     0.076582  0.244823   \n",
              "num_sats                      0.037812    0.117666     0.042524  0.272092   \n",
              "num_tl_90g_dpd_24m           -0.000096    0.002045     0.010214 -0.015453   \n",
              "num_tl_op_past_12m            0.024857    0.043866     0.114124  0.085706   \n",
              "pct_tl_nvr_dlq               -0.024404   -0.003309    -0.003712  0.100037   \n",
              "pub_rec_bankruptcies          0.015940   -0.047328     0.033782 -0.036079   \n",
              "tax_liens                     0.012648    0.034150     0.007485 -0.031683   \n",
              "tot_hi_cred_lim               0.116254    0.376068    -0.075054  0.009676   \n",
              "total_bc_limit                0.062905    0.244823    -0.077523  0.033725   \n",
              "\n",
              "                            delinq_2yrs  earliest_cr_line  ...  num_il_tl  \\\n",
              "loan_amnt                     -0.017553          0.158564  ...   0.077000   \n",
              "int_rate                       0.043968         -0.157894  ...   0.042056   \n",
              "installment                   -0.007929          0.145933  ...   0.057318   \n",
              "grade                          0.043013         -0.150406  ...   0.041341   \n",
              "emp_length                     0.019281          0.211427  ...  -0.052867   \n",
              "annual_inc                     0.034695          0.119647  ...   0.079263   \n",
              "loan_status                    0.017488         -0.044482  ...   0.028356   \n",
              "dti                           -0.013157          0.035666  ...   0.214518   \n",
              "delinq_2yrs                    1.000000          0.079737  ...   0.083155   \n",
              "earliest_cr_line               0.079737          1.000000  ...  -0.005030   \n",
              "fico_range_low                -0.173145          0.112379  ...  -0.023554   \n",
              "fico_range_high               -0.173143          0.112383  ...  -0.023556   \n",
              "inq_last_6mths                 0.040128          0.007240  ...   0.069552   \n",
              "open_acc                       0.042523          0.133381  ...   0.381601   \n",
              "pub_rec                       -0.019695          0.064518  ...  -0.013104   \n",
              "revol_bal                     -0.031664          0.215578  ...  -0.003313   \n",
              "revol_util                    -0.014950          0.007662  ...   0.017857   \n",
              "total_acc                      0.114153          0.263047  ...   0.669288   \n",
              "collections_12_mths_ex_med     0.084298          0.006039  ...   0.004264   \n",
              "policy_code                         NaN               NaN  ...        NaN   \n",
              "tot_coll_amt                  -0.000614          0.032928  ...   0.008686   \n",
              "tot_cur_bal                    0.053365          0.175805  ...   0.190285   \n",
              "total_rev_hi_lim              -0.051049          0.263855  ...  -0.007043   \n",
              "acc_open_past_24mths          -0.048877         -0.042556  ...   0.256235   \n",
              "avg_cur_bal                    0.043967          0.122306  ...   0.039521   \n",
              "bc_open_to_buy                -0.059249          0.166761  ...  -0.022712   \n",
              "chargeoff_within_12_mths       0.143619          0.031432  ...   0.016666   \n",
              "delinq_amnt                    0.034100          0.008171  ...  -0.004088   \n",
              "mo_sin_old_il_acct             0.077386          0.345474  ...   0.320661   \n",
              "mo_sin_old_rev_tl_op           0.075959          0.920196  ...  -0.042284   \n",
              "mo_sin_rcnt_rev_tl_op          0.025640          0.062656  ...  -0.020450   \n",
              "mo_sin_rcnt_tl                 0.013410          0.040017  ...  -0.132353   \n",
              "mort_acc                       0.068749          0.283781  ...   0.067786   \n",
              "mths_since_recent_bc           0.047105          0.101687  ...  -0.011569   \n",
              "num_accts_ever_120_pd          0.193814          0.084200  ...   0.125744   \n",
              "num_actv_bc_tl                -0.049640          0.128984  ...  -0.037135   \n",
              "num_actv_rev_tl               -0.008121          0.164503  ...  -0.005764   \n",
              "num_bc_sats                   -0.032041          0.159215  ...  -0.029395   \n",
              "num_bc_tl                      0.027150          0.274738  ...   0.024095   \n",
              "num_il_tl                      0.083155         -0.005030  ...   1.000000   \n",
              "num_rev_tl_bal_gt_0           -0.013506          0.156546  ...  -0.001121   \n",
              "num_sats                       0.039211          0.128221  ...   0.383181   \n",
              "num_tl_90g_dpd_24m             0.646252          0.038736  ...   0.059125   \n",
              "num_tl_op_past_12m            -0.015684         -0.013031  ...   0.193010   \n",
              "pct_tl_nvr_dlq                -0.450007         -0.101439  ...   0.011538   \n",
              "pub_rec_bankruptcies          -0.041680          0.059835  ...  -0.006541   \n",
              "tax_liens                      0.006831          0.033091  ...  -0.013431   \n",
              "tot_hi_cred_lim                0.053765          0.205531  ...   0.174025   \n",
              "total_bc_limit                -0.083822          0.250312  ...  -0.027542   \n",
              "\n",
              "                            num_rev_tl_bal_gt_0  num_sats  num_tl_90g_dpd_24m  \\\n",
              "loan_amnt                              0.168320  0.194392           -0.036197   \n",
              "int_rate                               0.045848 -0.020052            0.031314   \n",
              "installment                            0.164493  0.175441           -0.029522   \n",
              "grade                                  0.044596 -0.018665            0.032100   \n",
              "emp_length                             0.124943  0.037812           -0.000096   \n",
              "annual_inc                             0.075099  0.117666            0.002045   \n",
              "loan_status                            0.076582  0.042524            0.010214   \n",
              "dti                                    0.244823  0.272092           -0.015453   \n",
              "delinq_2yrs                           -0.013506  0.039211            0.646252   \n",
              "earliest_cr_line                       0.156546  0.128221            0.038736   \n",
              "fico_range_low                        -0.149391  0.053527           -0.108514   \n",
              "fico_range_high                       -0.149392  0.053526           -0.108513   \n",
              "inq_last_6mths                         0.134613  0.157563            0.049359   \n",
              "open_acc                               0.673526  0.998425           -0.000307   \n",
              "pub_rec                               -0.014052 -0.033148            0.010617   \n",
              "revol_bal                              0.309236  0.224111           -0.042132   \n",
              "revol_util                             0.082848 -0.161708           -0.012917   \n",
              "total_acc                              0.408433  0.705963            0.063471   \n",
              "collections_12_mths_ex_med            -0.001660  0.002767            0.131979   \n",
              "policy_code                                 NaN       NaN                 NaN   \n",
              "tot_coll_amt                          -0.004238  0.004563            0.007063   \n",
              "tot_cur_bal                            0.106975  0.244680            0.001024   \n",
              "total_rev_hi_lim                       0.357819  0.392454           -0.055834   \n",
              "acc_open_past_24mths                   0.345777  0.487392           -0.023943   \n",
              "avg_cur_bal                           -0.148098 -0.110672            0.007608   \n",
              "bc_open_to_buy                         0.134966  0.301538           -0.048408   \n",
              "chargeoff_within_12_mths              -0.004078  0.003333            0.224906   \n",
              "delinq_amnt                           -0.002174 -0.001708            0.040043   \n",
              "mo_sin_old_il_acct                     0.064004  0.126351            0.050327   \n",
              "mo_sin_old_rev_tl_op                   0.165870  0.131924            0.031501   \n",
              "mo_sin_rcnt_rev_tl_op                 -0.229091 -0.234212            0.006881   \n",
              "mo_sin_rcnt_tl                        -0.147213 -0.224590            0.005039   \n",
              "mort_acc                               0.062209  0.121721            0.031236   \n",
              "mths_since_recent_bc                  -0.207244 -0.209592            0.018217   \n",
              "num_accts_ever_120_pd                 -0.029575  0.017855            0.278689   \n",
              "num_actv_bc_tl                         0.797397  0.549487           -0.038833   \n",
              "num_actv_rev_tl                        0.974428  0.662096           -0.017073   \n",
              "num_bc_sats                            0.642950  0.603482           -0.013692   \n",
              "num_bc_tl                              0.490113  0.522128            0.016242   \n",
              "num_il_tl                             -0.001121  0.383181            0.059125   \n",
              "num_rev_tl_bal_gt_0                    1.000000  0.672258           -0.030213   \n",
              "num_sats                               0.672258  1.000000           -0.003649   \n",
              "num_tl_90g_dpd_24m                    -0.030213 -0.003649            1.000000   \n",
              "num_tl_op_past_12m                     0.252313  0.357318            0.011564   \n",
              "pct_tl_nvr_dlq                         0.116031  0.131922           -0.277826   \n",
              "pub_rec_bankruptcies                  -0.036275 -0.045478            0.015502   \n",
              "tax_liens                              0.009197 -0.006763           -0.000582   \n",
              "tot_hi_cred_lim                        0.136309  0.283878           -0.002863   \n",
              "total_bc_limit                         0.306983  0.365760           -0.068191   \n",
              "\n",
              "                            num_tl_op_past_12m  pct_tl_nvr_dlq  \\\n",
              "loan_amnt                            -0.022273        0.108698   \n",
              "int_rate                              0.277870       -0.058287   \n",
              "installment                          -0.007659        0.089786   \n",
              "grade                                 0.270366       -0.059191   \n",
              "emp_length                            0.024857       -0.024404   \n",
              "annual_inc                            0.043866       -0.003309   \n",
              "loan_status                           0.114124       -0.003712   \n",
              "dti                                   0.085706        0.100037   \n",
              "delinq_2yrs                          -0.015684       -0.450007   \n",
              "earliest_cr_line                     -0.013031       -0.101439   \n",
              "fico_range_low                       -0.126216        0.307064   \n",
              "fico_range_high                      -0.126217        0.307060   \n",
              "inq_last_6mths                        0.369508       -0.055310   \n",
              "open_acc                              0.360190        0.128140   \n",
              "pub_rec                               0.105174       -0.047641   \n",
              "revol_bal                            -0.035417        0.121192   \n",
              "revol_util                           -0.214024       -0.014416   \n",
              "total_acc                             0.337022        0.027262   \n",
              "collections_12_mths_ex_med            0.013981       -0.052492   \n",
              "policy_code                                NaN             NaN   \n",
              "tot_coll_amt                          0.025277       -0.062304   \n",
              "tot_cur_bal                           0.066562        0.021218   \n",
              "total_rev_hi_lim                      0.054460        0.184624   \n",
              "acc_open_past_24mths                  0.766878        0.060004   \n",
              "avg_cur_bal                          -0.061740       -0.044171   \n",
              "bc_open_to_buy                        0.077506        0.169148   \n",
              "chargeoff_within_12_mths              0.012686       -0.089761   \n",
              "delinq_amnt                           0.001279       -0.016520   \n",
              "mo_sin_old_il_acct                    0.017004       -0.102081   \n",
              "mo_sin_old_rev_tl_op                 -0.026099       -0.087472   \n",
              "mo_sin_rcnt_rev_tl_op                -0.409068       -0.026399   \n",
              "mo_sin_rcnt_tl                       -0.489472       -0.015768   \n",
              "mort_acc                              0.055163       -0.039636   \n",
              "mths_since_recent_bc                 -0.310854       -0.044102   \n",
              "num_accts_ever_120_pd                 0.087037       -0.550018   \n",
              "num_actv_bc_tl                        0.163356        0.141803   \n",
              "num_actv_rev_tl                       0.268292        0.101120   \n",
              "num_bc_sats                           0.226792        0.141759   \n",
              "num_bc_tl                             0.229575        0.054219   \n",
              "num_il_tl                             0.193010        0.011538   \n",
              "num_rev_tl_bal_gt_0                   0.252313        0.116031   \n",
              "num_sats                              0.357318        0.131922   \n",
              "num_tl_90g_dpd_24m                    0.011564       -0.277826   \n",
              "num_tl_op_past_12m                    1.000000        0.001879   \n",
              "pct_tl_nvr_dlq                        0.001879        1.000000   \n",
              "pub_rec_bankruptcies                  0.124976        0.005310   \n",
              "tax_liens                             0.022434       -0.033779   \n",
              "tot_hi_cred_lim                       0.068503        0.032123   \n",
              "total_bc_limit                        0.016401        0.228467   \n",
              "\n",
              "                            pub_rec_bankruptcies  tax_liens  tot_hi_cred_lim  \\\n",
              "loan_amnt                              -0.113125  -0.000109         0.343293   \n",
              "int_rate                                0.073963   0.012398        -0.125707   \n",
              "installment                            -0.108618   0.008227         0.318101   \n",
              "grade                                   0.076689   0.012711        -0.120292   \n",
              "emp_length                              0.015940   0.012648         0.116254   \n",
              "annual_inc                             -0.047328   0.034150         0.376068   \n",
              "loan_status                             0.033782   0.007485        -0.075054   \n",
              "dti                                    -0.036079  -0.031683         0.009676   \n",
              "delinq_2yrs                            -0.041680   0.006831         0.053765   \n",
              "earliest_cr_line                        0.059835   0.033091         0.205531   \n",
              "fico_range_low                         -0.219346  -0.056605         0.200902   \n",
              "fico_range_high                        -0.219343  -0.056604         0.200904   \n",
              "inq_last_6mths                          0.116285   0.023448         0.016602   \n",
              "open_acc                               -0.036798  -0.006931         0.284017   \n",
              "pub_rec                                 0.599509   0.731830        -0.081476   \n",
              "revol_bal                              -0.130757  -0.015399         0.488658   \n",
              "revol_util                             -0.108399  -0.009885         0.041542   \n",
              "total_acc                               0.053703  -0.021149         0.328424   \n",
              "collections_12_mths_ex_med              0.002419   0.008845        -0.014702   \n",
              "policy_code                                  NaN        NaN              NaN   \n",
              "tot_coll_amt                            0.009405   0.015436        -0.005436   \n",
              "tot_cur_bal                            -0.111143  -0.002273         0.976613   \n",
              "total_rev_hi_lim                       -0.141455  -0.021137         0.515925   \n",
              "acc_open_past_24mths                    0.142825   0.017654         0.081612   \n",
              "avg_cur_bal                            -0.091542   0.002825         0.798092   \n",
              "bc_open_to_buy                         -0.104688  -0.017641         0.262341   \n",
              "chargeoff_within_12_mths               -0.000025  -0.002286         0.003889   \n",
              "delinq_amnt                             0.006208   0.001516         0.019519   \n",
              "mo_sin_old_il_acct                      0.039818   0.021328         0.168061   \n",
              "mo_sin_old_rev_tl_op                    0.056467   0.017189         0.212077   \n",
              "mo_sin_rcnt_rev_tl_op                  -0.095621  -0.003425         0.030686   \n",
              "mo_sin_rcnt_tl                         -0.081816  -0.007118        -0.064160   \n",
              "mort_acc                                0.028768  -0.009785         0.534052   \n",
              "mths_since_recent_bc                   -0.076474  -0.004375         0.037401   \n",
              "num_accts_ever_120_pd                  -0.019870   0.008898         0.003961   \n",
              "num_actv_bc_tl                         -0.074360   0.012817         0.154390   \n",
              "num_actv_rev_tl                        -0.020256   0.008792         0.139098   \n",
              "num_bc_sats                            -0.048381   0.003068         0.189202   \n",
              "num_bc_tl                               0.032633  -0.009058         0.198068   \n",
              "num_il_tl                              -0.006541  -0.013431         0.174025   \n",
              "num_rev_tl_bal_gt_0                    -0.036275   0.009197         0.136309   \n",
              "num_sats                               -0.045478  -0.006763         0.283878   \n",
              "num_tl_90g_dpd_24m                      0.015502  -0.000582        -0.002863   \n",
              "num_tl_op_past_12m                      0.124976   0.022434         0.068503   \n",
              "pct_tl_nvr_dlq                          0.005310  -0.033779         0.032123   \n",
              "pub_rec_bankruptcies                    1.000000   0.034108        -0.122971   \n",
              "tax_liens                               0.034108   1.000000        -0.001615   \n",
              "tot_hi_cred_lim                        -0.122971  -0.001615         1.000000   \n",
              "total_bc_limit                         -0.168175  -0.026264         0.411744   \n",
              "\n",
              "                            total_bc_limit  \n",
              "loan_amnt                         0.396757  \n",
              "int_rate                         -0.268438  \n",
              "installment                       0.368598  \n",
              "grade                            -0.257777  \n",
              "emp_length                        0.062905  \n",
              "annual_inc                        0.244823  \n",
              "loan_status                      -0.077523  \n",
              "dti                               0.033725  \n",
              "delinq_2yrs                      -0.083822  \n",
              "earliest_cr_line                  0.250312  \n",
              "fico_range_low                    0.386161  \n",
              "fico_range_high                   0.386162  \n",
              "inq_last_6mths                   -0.009667  \n",
              "open_acc                          0.364708  \n",
              "pub_rec                          -0.138123  \n",
              "revol_bal                         0.503758  \n",
              "revol_util                       -0.148206  \n",
              "total_acc                         0.272025  \n",
              "collections_12_mths_ex_med       -0.032446  \n",
              "policy_code                            NaN  \n",
              "tot_coll_amt                     -0.037439  \n",
              "tot_cur_bal                       0.329393  \n",
              "total_rev_hi_lim                  0.779416  \n",
              "acc_open_past_24mths              0.031840  \n",
              "avg_cur_bal                       0.149281  \n",
              "bc_open_to_buy                    0.822261  \n",
              "chargeoff_within_12_mths         -0.021032  \n",
              "delinq_amnt                      -0.002478  \n",
              "mo_sin_old_il_acct                0.080024  \n",
              "mo_sin_old_rev_tl_op              0.278971  \n",
              "mo_sin_rcnt_rev_tl_op            -0.010016  \n",
              "mo_sin_rcnt_tl                    0.006288  \n",
              "mort_acc                          0.209046  \n",
              "mths_since_recent_bc             -0.075670  \n",
              "num_accts_ever_120_pd            -0.136532  \n",
              "num_actv_bc_tl                    0.501342  \n",
              "num_actv_rev_tl                   0.312727  \n",
              "num_bc_sats                       0.606310  \n",
              "num_bc_tl                         0.504490  \n",
              "num_il_tl                        -0.027542  \n",
              "num_rev_tl_bal_gt_0               0.306983  \n",
              "num_sats                          0.365760  \n",
              "num_tl_90g_dpd_24m               -0.068191  \n",
              "num_tl_op_past_12m                0.016401  \n",
              "pct_tl_nvr_dlq                    0.228467  \n",
              "pub_rec_bankruptcies             -0.168175  \n",
              "tax_liens                        -0.026264  \n",
              "tot_hi_cred_lim                   0.411744  \n",
              "total_bc_limit                    1.000000  \n",
              "\n",
              "[49 rows x 49 columns]"
            ],
            "text/html": [
              "\n",
              "  <div id=\"df-31db1f0b-47b2-48fc-9da7-5d6fa765dc75\">\n",
              "    <div class=\"colab-df-container\">\n",
              "      <div>\n",
              "<style scoped>\n",
              "    .dataframe tbody tr th:only-of-type {\n",
              "        vertical-align: middle;\n",
              "    }\n",
              "\n",
              "    .dataframe tbody tr th {\n",
              "        vertical-align: top;\n",
              "    }\n",
              "\n",
              "    .dataframe thead th {\n",
              "        text-align: right;\n",
              "    }\n",
              "</style>\n",
              "<table border=\"1\" class=\"dataframe\">\n",
              "  <thead>\n",
              "    <tr style=\"text-align: right;\">\n",
              "      <th></th>\n",
              "      <th>loan_amnt</th>\n",
              "      <th>int_rate</th>\n",
              "      <th>installment</th>\n",
              "      <th>grade</th>\n",
              "      <th>emp_length</th>\n",
              "      <th>annual_inc</th>\n",
              "      <th>loan_status</th>\n",
              "      <th>dti</th>\n",
              "      <th>delinq_2yrs</th>\n",
              "      <th>earliest_cr_line</th>\n",
              "      <th>...</th>\n",
              "      <th>num_il_tl</th>\n",
              "      <th>num_rev_tl_bal_gt_0</th>\n",
              "      <th>num_sats</th>\n",
              "      <th>num_tl_90g_dpd_24m</th>\n",
              "      <th>num_tl_op_past_12m</th>\n",
              "      <th>pct_tl_nvr_dlq</th>\n",
              "      <th>pub_rec_bankruptcies</th>\n",
              "      <th>tax_liens</th>\n",
              "      <th>tot_hi_cred_lim</th>\n",
              "      <th>total_bc_limit</th>\n",
              "    </tr>\n",
              "  </thead>\n",
              "  <tbody>\n",
              "    <tr>\n",
              "      <th>loan_amnt</th>\n",
              "      <td>1.000000</td>\n",
              "      <td>0.126362</td>\n",
              "      <td>0.954794</td>\n",
              "      <td>0.123619</td>\n",
              "      <td>0.078771</td>\n",
              "      <td>0.283096</td>\n",
              "      <td>0.066721</td>\n",
              "      <td>0.013943</td>\n",
              "      <td>-0.017553</td>\n",
              "      <td>0.158564</td>\n",
              "      <td>...</td>\n",
              "      <td>0.077000</td>\n",
              "      <td>0.168320</td>\n",
              "      <td>0.194392</td>\n",
              "      <td>-0.036197</td>\n",
              "      <td>-0.022273</td>\n",
              "      <td>0.108698</td>\n",
              "      <td>-0.113125</td>\n",
              "      <td>-0.000109</td>\n",
              "      <td>0.343293</td>\n",
              "      <td>0.396757</td>\n",
              "    </tr>\n",
              "    <tr>\n",
              "      <th>int_rate</th>\n",
              "      <td>0.126362</td>\n",
              "      <td>1.000000</td>\n",
              "      <td>0.102986</td>\n",
              "      <td>0.970542</td>\n",
              "      <td>-0.020698</td>\n",
              "      <td>-0.088346</td>\n",
              "      <td>0.308937</td>\n",
              "      <td>0.189858</td>\n",
              "      <td>0.043968</td>\n",
              "      <td>-0.157894</td>\n",
              "      <td>...</td>\n",
              "      <td>0.042056</td>\n",
              "      <td>0.045848</td>\n",
              "      <td>-0.020052</td>\n",
              "      <td>0.031314</td>\n",
              "      <td>0.277870</td>\n",
              "      <td>-0.058287</td>\n",
              "      <td>0.073963</td>\n",
              "      <td>0.012398</td>\n",
              "      <td>-0.125707</td>\n",
              "      <td>-0.268438</td>\n",
              "    </tr>\n",
              "    <tr>\n",
              "      <th>installment</th>\n",
              "      <td>0.954794</td>\n",
              "      <td>0.102986</td>\n",
              "      <td>1.000000</td>\n",
              "      <td>0.097590</td>\n",
              "      <td>0.067105</td>\n",
              "      <td>0.278429</td>\n",
              "      <td>0.033792</td>\n",
              "      <td>0.002784</td>\n",
              "      <td>-0.007929</td>\n",
              "      <td>0.145933</td>\n",
              "      <td>...</td>\n",
              "      <td>0.057318</td>\n",
              "      <td>0.164493</td>\n",
              "      <td>0.175441</td>\n",
              "      <td>-0.029522</td>\n",
              "      <td>-0.007659</td>\n",
              "      <td>0.089786</td>\n",
              "      <td>-0.108618</td>\n",
              "      <td>0.008227</td>\n",
              "      <td>0.318101</td>\n",
              "      <td>0.368598</td>\n",
              "    </tr>\n",
              "    <tr>\n",
              "      <th>grade</th>\n",
              "      <td>0.123619</td>\n",
              "      <td>0.970542</td>\n",
              "      <td>0.097590</td>\n",
              "      <td>1.000000</td>\n",
              "      <td>-0.019600</td>\n",
              "      <td>-0.085107</td>\n",
              "      <td>0.303626</td>\n",
              "      <td>0.183267</td>\n",
              "      <td>0.043013</td>\n",
              "      <td>-0.150406</td>\n",
              "      <td>...</td>\n",
              "      <td>0.041341</td>\n",
              "      <td>0.044596</td>\n",
              "      <td>-0.018665</td>\n",
              "      <td>0.032100</td>\n",
              "      <td>0.270366</td>\n",
              "      <td>-0.059191</td>\n",
              "      <td>0.076689</td>\n",
              "      <td>0.012711</td>\n",
              "      <td>-0.120292</td>\n",
              "      <td>-0.257777</td>\n",
              "    </tr>\n",
              "    <tr>\n",
              "      <th>emp_length</th>\n",
              "      <td>0.078771</td>\n",
              "      <td>-0.020698</td>\n",
              "      <td>0.067105</td>\n",
              "      <td>-0.019600</td>\n",
              "      <td>1.000000</td>\n",
              "      <td>0.055289</td>\n",
              "      <td>-0.011979</td>\n",
              "      <td>0.038878</td>\n",
              "      <td>0.019281</td>\n",
              "      <td>0.211427</td>\n",
              "      <td>...</td>\n",
              "      <td>-0.052867</td>\n",
              "      <td>0.124943</td>\n",
              "      <td>0.037812</td>\n",
              "      <td>-0.000096</td>\n",
              "      <td>0.024857</td>\n",
              "      <td>-0.024404</td>\n",
              "      <td>0.015940</td>\n",
              "      <td>0.012648</td>\n",
              "      <td>0.116254</td>\n",
              "      <td>0.062905</td>\n",
              "    </tr>\n",
              "    <tr>\n",
              "      <th>annual_inc</th>\n",
              "      <td>0.283096</td>\n",
              "      <td>-0.088346</td>\n",
              "      <td>0.278429</td>\n",
              "      <td>-0.085107</td>\n",
              "      <td>0.055289</td>\n",
              "      <td>1.000000</td>\n",
              "      <td>-0.040605</td>\n",
              "      <td>-0.155478</td>\n",
              "      <td>0.034695</td>\n",
              "      <td>0.119647</td>\n",
              "      <td>...</td>\n",
              "      <td>0.079263</td>\n",
              "      <td>0.075099</td>\n",
              "      <td>0.117666</td>\n",
              "      <td>0.002045</td>\n",
              "      <td>0.043866</td>\n",
              "      <td>-0.003309</td>\n",
              "      <td>-0.047328</td>\n",
              "      <td>0.034150</td>\n",
              "      <td>0.376068</td>\n",
              "      <td>0.244823</td>\n",
              "    </tr>\n",
              "    <tr>\n",
              "      <th>loan_status</th>\n",
              "      <td>0.066721</td>\n",
              "      <td>0.308937</td>\n",
              "      <td>0.033792</td>\n",
              "      <td>0.303626</td>\n",
              "      <td>-0.011979</td>\n",
              "      <td>-0.040605</td>\n",
              "      <td>1.000000</td>\n",
              "      <td>0.114731</td>\n",
              "      <td>0.017488</td>\n",
              "      <td>-0.044482</td>\n",
              "      <td>...</td>\n",
              "      <td>0.028356</td>\n",
              "      <td>0.076582</td>\n",
              "      <td>0.042524</td>\n",
              "      <td>0.010214</td>\n",
              "      <td>0.114124</td>\n",
              "      <td>-0.003712</td>\n",
              "      <td>0.033782</td>\n",
              "      <td>0.007485</td>\n",
              "      <td>-0.075054</td>\n",
              "      <td>-0.077523</td>\n",
              "    </tr>\n",
              "    <tr>\n",
              "      <th>dti</th>\n",
              "      <td>0.013943</td>\n",
              "      <td>0.189858</td>\n",
              "      <td>0.002784</td>\n",
              "      <td>0.183267</td>\n",
              "      <td>0.038878</td>\n",
              "      <td>-0.155478</td>\n",
              "      <td>0.114731</td>\n",
              "      <td>1.000000</td>\n",
              "      <td>-0.013157</td>\n",
              "      <td>0.035666</td>\n",
              "      <td>...</td>\n",
              "      <td>0.214518</td>\n",
              "      <td>0.244823</td>\n",
              "      <td>0.272092</td>\n",
              "      <td>-0.015453</td>\n",
              "      <td>0.085706</td>\n",
              "      <td>0.100037</td>\n",
              "      <td>-0.036079</td>\n",
              "      <td>-0.031683</td>\n",
              "      <td>0.009676</td>\n",
              "      <td>0.033725</td>\n",
              "    </tr>\n",
              "    <tr>\n",
              "      <th>delinq_2yrs</th>\n",
              "      <td>-0.017553</td>\n",
              "      <td>0.043968</td>\n",
              "      <td>-0.007929</td>\n",
              "      <td>0.043013</td>\n",
              "      <td>0.019281</td>\n",
              "      <td>0.034695</td>\n",
              "      <td>0.017488</td>\n",
              "      <td>-0.013157</td>\n",
              "      <td>1.000000</td>\n",
              "      <td>0.079737</td>\n",
              "      <td>...</td>\n",
              "      <td>0.083155</td>\n",
              "      <td>-0.013506</td>\n",
              "      <td>0.039211</td>\n",
              "      <td>0.646252</td>\n",
              "      <td>-0.015684</td>\n",
              "      <td>-0.450007</td>\n",
              "      <td>-0.041680</td>\n",
              "      <td>0.006831</td>\n",
              "      <td>0.053765</td>\n",
              "      <td>-0.083822</td>\n",
              "    </tr>\n",
              "    <tr>\n",
              "      <th>earliest_cr_line</th>\n",
              "      <td>0.158564</td>\n",
              "      <td>-0.157894</td>\n",
              "      <td>0.145933</td>\n",
              "      <td>-0.150406</td>\n",
              "      <td>0.211427</td>\n",
              "      <td>0.119647</td>\n",
              "      <td>-0.044482</td>\n",
              "      <td>0.035666</td>\n",
              "      <td>0.079737</td>\n",
              "      <td>1.000000</td>\n",
              "      <td>...</td>\n",
              "      <td>-0.005030</td>\n",
              "      <td>0.156546</td>\n",
              "      <td>0.128221</td>\n",
              "      <td>0.038736</td>\n",
              "      <td>-0.013031</td>\n",
              "      <td>-0.101439</td>\n",
              "      <td>0.059835</td>\n",
              "      <td>0.033091</td>\n",
              "      <td>0.205531</td>\n",
              "      <td>0.250312</td>\n",
              "    </tr>\n",
              "    <tr>\n",
              "      <th>fico_range_low</th>\n",
              "      <td>0.127747</td>\n",
              "      <td>-0.390896</td>\n",
              "      <td>0.093049</td>\n",
              "      <td>-0.378823</td>\n",
              "      <td>0.037755</td>\n",
              "      <td>0.066197</td>\n",
              "      <td>-0.136506</td>\n",
              "      <td>-0.056549</td>\n",
              "      <td>-0.173145</td>\n",
              "      <td>0.112379</td>\n",
              "      <td>...</td>\n",
              "      <td>-0.023554</td>\n",
              "      <td>-0.149391</td>\n",
              "      <td>0.053527</td>\n",
              "      <td>-0.108514</td>\n",
              "      <td>-0.126216</td>\n",
              "      <td>0.307064</td>\n",
              "      <td>-0.219346</td>\n",
              "      <td>-0.056605</td>\n",
              "      <td>0.200902</td>\n",
              "      <td>0.386161</td>\n",
              "    </tr>\n",
              "    <tr>\n",
              "      <th>fico_range_high</th>\n",
              "      <td>0.127744</td>\n",
              "      <td>-0.390894</td>\n",
              "      <td>0.093046</td>\n",
              "      <td>-0.378820</td>\n",
              "      <td>0.037755</td>\n",
              "      <td>0.066197</td>\n",
              "      <td>-0.136505</td>\n",
              "      <td>-0.056551</td>\n",
              "      <td>-0.173143</td>\n",
              "      <td>0.112383</td>\n",
              "      <td>...</td>\n",
              "      <td>-0.023556</td>\n",
              "      <td>-0.149392</td>\n",
              "      <td>0.053526</td>\n",
              "      <td>-0.108513</td>\n",
              "      <td>-0.126217</td>\n",
              "      <td>0.307060</td>\n",
              "      <td>-0.219343</td>\n",
              "      <td>-0.056604</td>\n",
              "      <td>0.200904</td>\n",
              "      <td>0.386162</td>\n",
              "    </tr>\n",
              "    <tr>\n",
              "      <th>inq_last_6mths</th>\n",
              "      <td>-0.024942</td>\n",
              "      <td>0.245380</td>\n",
              "      <td>-0.005416</td>\n",
              "      <td>0.239530</td>\n",
              "      <td>0.000996</td>\n",
              "      <td>0.023757</td>\n",
              "      <td>0.090932</td>\n",
              "      <td>0.009929</td>\n",
              "      <td>0.040128</td>\n",
              "      <td>0.007240</td>\n",
              "      <td>...</td>\n",
              "      <td>0.069552</td>\n",
              "      <td>0.134613</td>\n",
              "      <td>0.157563</td>\n",
              "      <td>0.049359</td>\n",
              "      <td>0.369508</td>\n",
              "      <td>-0.055310</td>\n",
              "      <td>0.116285</td>\n",
              "      <td>0.023448</td>\n",
              "      <td>0.016602</td>\n",
              "      <td>-0.009667</td>\n",
              "    </tr>\n",
              "    <tr>\n",
              "      <th>open_acc</th>\n",
              "      <td>0.193755</td>\n",
              "      <td>-0.019674</td>\n",
              "      <td>0.174992</td>\n",
              "      <td>-0.018179</td>\n",
              "      <td>0.039248</td>\n",
              "      <td>0.118036</td>\n",
              "      <td>0.042521</td>\n",
              "      <td>0.272517</td>\n",
              "      <td>0.042523</td>\n",
              "      <td>0.133381</td>\n",
              "      <td>...</td>\n",
              "      <td>0.381601</td>\n",
              "      <td>0.673526</td>\n",
              "      <td>0.998425</td>\n",
              "      <td>-0.000307</td>\n",
              "      <td>0.360190</td>\n",
              "      <td>0.128140</td>\n",
              "      <td>-0.036798</td>\n",
              "      <td>-0.006931</td>\n",
              "      <td>0.284017</td>\n",
              "      <td>0.364708</td>\n",
              "    </tr>\n",
              "    <tr>\n",
              "      <th>pub_rec</th>\n",
              "      <td>-0.081420</td>\n",
              "      <td>0.063427</td>\n",
              "      <td>-0.070869</td>\n",
              "      <td>0.065552</td>\n",
              "      <td>0.025545</td>\n",
              "      <td>-0.006900</td>\n",
              "      <td>0.028559</td>\n",
              "      <td>-0.051334</td>\n",
              "      <td>-0.019695</td>\n",
              "      <td>0.064518</td>\n",
              "      <td>...</td>\n",
              "      <td>-0.013104</td>\n",
              "      <td>-0.014052</td>\n",
              "      <td>-0.033148</td>\n",
              "      <td>0.010617</td>\n",
              "      <td>0.105174</td>\n",
              "      <td>-0.047641</td>\n",
              "      <td>0.599509</td>\n",
              "      <td>0.731830</td>\n",
              "      <td>-0.081476</td>\n",
              "      <td>-0.138123</td>\n",
              "    </tr>\n",
              "    <tr>\n",
              "      <th>revol_bal</th>\n",
              "      <td>0.335337</td>\n",
              "      <td>-0.069883</td>\n",
              "      <td>0.322697</td>\n",
              "      <td>-0.068745</td>\n",
              "      <td>0.083276</td>\n",
              "      <td>0.267293</td>\n",
              "      <td>-0.027319</td>\n",
              "      <td>0.124970</td>\n",
              "      <td>-0.031664</td>\n",
              "      <td>0.215578</td>\n",
              "      <td>...</td>\n",
              "      <td>-0.003313</td>\n",
              "      <td>0.309236</td>\n",
              "      <td>0.224111</td>\n",
              "      <td>-0.042132</td>\n",
              "      <td>-0.035417</td>\n",
              "      <td>0.121192</td>\n",
              "      <td>-0.130757</td>\n",
              "      <td>-0.015399</td>\n",
              "      <td>0.488658</td>\n",
              "      <td>0.503758</td>\n",
              "    </tr>\n",
              "    <tr>\n",
              "      <th>revol_util</th>\n",
              "      <td>0.113986</td>\n",
              "      <td>0.190677</td>\n",
              "      <td>0.123266</td>\n",
              "      <td>0.181733</td>\n",
              "      <td>0.020094</td>\n",
              "      <td>0.040186</td>\n",
              "      <td>0.053587</td>\n",
              "      <td>0.160862</td>\n",
              "      <td>-0.014950</td>\n",
              "      <td>0.007662</td>\n",
              "      <td>...</td>\n",
              "      <td>0.017857</td>\n",
              "      <td>0.082848</td>\n",
              "      <td>-0.161708</td>\n",
              "      <td>-0.012917</td>\n",
              "      <td>-0.214024</td>\n",
              "      <td>-0.014416</td>\n",
              "      <td>-0.108399</td>\n",
              "      <td>-0.009885</td>\n",
              "      <td>0.041542</td>\n",
              "      <td>-0.148206</td>\n",
              "    </tr>\n",
              "    <tr>\n",
              "      <th>total_acc</th>\n",
              "      <td>0.214975</td>\n",
              "      <td>-0.039144</td>\n",
              "      <td>0.187245</td>\n",
              "      <td>-0.035660</td>\n",
              "      <td>0.095742</td>\n",
              "      <td>0.150039</td>\n",
              "      <td>0.017323</td>\n",
              "      <td>0.216747</td>\n",
              "      <td>0.114153</td>\n",
              "      <td>0.263047</td>\n",
              "      <td>...</td>\n",
              "      <td>0.669288</td>\n",
              "      <td>0.408433</td>\n",
              "      <td>0.705963</td>\n",
              "      <td>0.063471</td>\n",
              "      <td>0.337022</td>\n",
              "      <td>0.027262</td>\n",
              "      <td>0.053703</td>\n",
              "      <td>-0.021149</td>\n",
              "      <td>0.328424</td>\n",
              "      <td>0.272025</td>\n",
              "    </tr>\n",
              "    <tr>\n",
              "      <th>collections_12_mths_ex_med</th>\n",
              "      <td>-0.026343</td>\n",
              "      <td>0.019779</td>\n",
              "      <td>-0.021834</td>\n",
              "      <td>0.020856</td>\n",
              "      <td>-0.006729</td>\n",
              "      <td>-0.008145</td>\n",
              "      <td>0.013420</td>\n",
              "      <td>-0.006891</td>\n",
              "      <td>0.084298</td>\n",
              "      <td>0.006039</td>\n",
              "      <td>...</td>\n",
              "      <td>0.004264</td>\n",
              "      <td>-0.001660</td>\n",
              "      <td>0.002767</td>\n",
              "      <td>0.131979</td>\n",
              "      <td>0.013981</td>\n",
              "      <td>-0.052492</td>\n",
              "      <td>0.002419</td>\n",
              "      <td>0.008845</td>\n",
              "      <td>-0.014702</td>\n",
              "      <td>-0.032446</td>\n",
              "    </tr>\n",
              "    <tr>\n",
              "      <th>policy_code</th>\n",
              "      <td>NaN</td>\n",
              "      <td>NaN</td>\n",
              "      <td>NaN</td>\n",
              "      <td>NaN</td>\n",
              "      <td>NaN</td>\n",
              "      <td>NaN</td>\n",
              "      <td>NaN</td>\n",
              "      <td>NaN</td>\n",
              "      <td>NaN</td>\n",
              "      <td>NaN</td>\n",
              "      <td>...</td>\n",
              "      <td>NaN</td>\n",
              "      <td>NaN</td>\n",
              "      <td>NaN</td>\n",
              "      <td>NaN</td>\n",
              "      <td>NaN</td>\n",
              "      <td>NaN</td>\n",
              "      <td>NaN</td>\n",
              "      <td>NaN</td>\n",
              "      <td>NaN</td>\n",
              "      <td>NaN</td>\n",
              "    </tr>\n",
              "    <tr>\n",
              "      <th>tot_coll_amt</th>\n",
              "      <td>-0.020184</td>\n",
              "      <td>0.014620</td>\n",
              "      <td>-0.016588</td>\n",
              "      <td>0.015943</td>\n",
              "      <td>0.005000</td>\n",
              "      <td>-0.000744</td>\n",
              "      <td>-0.002439</td>\n",
              "      <td>-0.018281</td>\n",
              "      <td>-0.000614</td>\n",
              "      <td>0.032928</td>\n",
              "      <td>...</td>\n",
              "      <td>0.008686</td>\n",
              "      <td>-0.004238</td>\n",
              "      <td>0.004563</td>\n",
              "      <td>0.007063</td>\n",
              "      <td>0.025277</td>\n",
              "      <td>-0.062304</td>\n",
              "      <td>0.009405</td>\n",
              "      <td>0.015436</td>\n",
              "      <td>-0.005436</td>\n",
              "      <td>-0.037439</td>\n",
              "    </tr>\n",
              "    <tr>\n",
              "      <th>tot_cur_bal</th>\n",
              "      <td>0.318890</td>\n",
              "      <td>-0.088601</td>\n",
              "      <td>0.295514</td>\n",
              "      <td>-0.084667</td>\n",
              "      <td>0.099597</td>\n",
              "      <td>0.363193</td>\n",
              "      <td>-0.066545</td>\n",
              "      <td>-0.001648</td>\n",
              "      <td>0.053365</td>\n",
              "      <td>0.175805</td>\n",
              "      <td>...</td>\n",
              "      <td>0.190285</td>\n",
              "      <td>0.106975</td>\n",
              "      <td>0.244680</td>\n",
              "      <td>0.001024</td>\n",
              "      <td>0.066562</td>\n",
              "      <td>0.021218</td>\n",
              "      <td>-0.111143</td>\n",
              "      <td>-0.002273</td>\n",
              "      <td>0.976613</td>\n",
              "      <td>0.329393</td>\n",
              "    </tr>\n",
              "    <tr>\n",
              "      <th>total_rev_hi_lim</th>\n",
              "      <td>0.362204</td>\n",
              "      <td>-0.205973</td>\n",
              "      <td>0.338371</td>\n",
              "      <td>-0.197478</td>\n",
              "      <td>0.095002</td>\n",
              "      <td>0.268717</td>\n",
              "      <td>-0.062563</td>\n",
              "      <td>0.075135</td>\n",
              "      <td>-0.051049</td>\n",
              "      <td>0.263855</td>\n",
              "      <td>...</td>\n",
              "      <td>-0.007043</td>\n",
              "      <td>0.357819</td>\n",
              "      <td>0.392454</td>\n",
              "      <td>-0.055834</td>\n",
              "      <td>0.054460</td>\n",
              "      <td>0.184624</td>\n",
              "      <td>-0.141455</td>\n",
              "      <td>-0.021137</td>\n",
              "      <td>0.515925</td>\n",
              "      <td>0.779416</td>\n",
              "    </tr>\n",
              "    <tr>\n",
              "      <th>acc_open_past_24mths</th>\n",
              "      <td>0.011617</td>\n",
              "      <td>0.246620</td>\n",
              "      <td>0.013926</td>\n",
              "      <td>0.240354</td>\n",
              "      <td>0.022264</td>\n",
              "      <td>0.047248</td>\n",
              "      <td>0.135290</td>\n",
              "      <td>0.149480</td>\n",
              "      <td>-0.048877</td>\n",
              "      <td>-0.042556</td>\n",
              "      <td>...</td>\n",
              "      <td>0.256235</td>\n",
              "      <td>0.345777</td>\n",
              "      <td>0.487392</td>\n",
              "      <td>-0.023943</td>\n",
              "      <td>0.766878</td>\n",
              "      <td>0.060004</td>\n",
              "      <td>0.142825</td>\n",
              "      <td>0.017654</td>\n",
              "      <td>0.081612</td>\n",
              "      <td>0.031840</td>\n",
              "    </tr>\n",
              "    <tr>\n",
              "      <th>avg_cur_bal</th>\n",
              "      <td>0.231673</td>\n",
              "      <td>-0.080911</td>\n",
              "      <td>0.215662</td>\n",
              "      <td>-0.076883</td>\n",
              "      <td>0.087861</td>\n",
              "      <td>0.281470</td>\n",
              "      <td>-0.078136</td>\n",
              "      <td>-0.117913</td>\n",
              "      <td>0.043967</td>\n",
              "      <td>0.122306</td>\n",
              "      <td>...</td>\n",
              "      <td>0.039521</td>\n",
              "      <td>-0.148098</td>\n",
              "      <td>-0.110672</td>\n",
              "      <td>0.007608</td>\n",
              "      <td>-0.061740</td>\n",
              "      <td>-0.044171</td>\n",
              "      <td>-0.091542</td>\n",
              "      <td>0.002825</td>\n",
              "      <td>0.798092</td>\n",
              "      <td>0.149281</td>\n",
              "    </tr>\n",
              "    <tr>\n",
              "      <th>bc_open_to_buy</th>\n",
              "      <td>0.207379</td>\n",
              "      <td>-0.297399</td>\n",
              "      <td>0.182537</td>\n",
              "      <td>-0.282037</td>\n",
              "      <td>0.031786</td>\n",
              "      <td>0.134623</td>\n",
              "      <td>-0.087050</td>\n",
              "      <td>-0.074143</td>\n",
              "      <td>-0.059249</td>\n",
              "      <td>0.166761</td>\n",
              "      <td>...</td>\n",
              "      <td>-0.022712</td>\n",
              "      <td>0.134966</td>\n",
              "      <td>0.301538</td>\n",
              "      <td>-0.048408</td>\n",
              "      <td>0.077506</td>\n",
              "      <td>0.169148</td>\n",
              "      <td>-0.104688</td>\n",
              "      <td>-0.017641</td>\n",
              "      <td>0.262341</td>\n",
              "      <td>0.822261</td>\n",
              "    </tr>\n",
              "    <tr>\n",
              "      <th>chargeoff_within_12_mths</th>\n",
              "      <td>-0.006663</td>\n",
              "      <td>0.012673</td>\n",
              "      <td>-0.004762</td>\n",
              "      <td>0.012207</td>\n",
              "      <td>0.011343</td>\n",
              "      <td>0.002711</td>\n",
              "      <td>0.006684</td>\n",
              "      <td>0.000218</td>\n",
              "      <td>0.143619</td>\n",
              "      <td>0.031432</td>\n",
              "      <td>...</td>\n",
              "      <td>0.016666</td>\n",
              "      <td>-0.004078</td>\n",
              "      <td>0.003333</td>\n",
              "      <td>0.224906</td>\n",
              "      <td>0.012686</td>\n",
              "      <td>-0.089761</td>\n",
              "      <td>-0.000025</td>\n",
              "      <td>-0.002286</td>\n",
              "      <td>0.003889</td>\n",
              "      <td>-0.021032</td>\n",
              "    </tr>\n",
              "    <tr>\n",
              "      <th>delinq_amnt</th>\n",
              "      <td>-0.003156</td>\n",
              "      <td>0.013369</td>\n",
              "      <td>-0.002162</td>\n",
              "      <td>0.012774</td>\n",
              "      <td>0.001008</td>\n",
              "      <td>0.005313</td>\n",
              "      <td>0.004086</td>\n",
              "      <td>-0.006612</td>\n",
              "      <td>0.034100</td>\n",
              "      <td>0.008171</td>\n",
              "      <td>...</td>\n",
              "      <td>-0.004088</td>\n",
              "      <td>-0.002174</td>\n",
              "      <td>-0.001708</td>\n",
              "      <td>0.040043</td>\n",
              "      <td>0.001279</td>\n",
              "      <td>-0.016520</td>\n",
              "      <td>0.006208</td>\n",
              "      <td>0.001516</td>\n",
              "      <td>0.019519</td>\n",
              "      <td>-0.002478</td>\n",
              "    </tr>\n",
              "    <tr>\n",
              "      <th>mo_sin_old_il_acct</th>\n",
              "      <td>0.123482</td>\n",
              "      <td>-0.087751</td>\n",
              "      <td>0.104626</td>\n",
              "      <td>-0.083517</td>\n",
              "      <td>0.121445</td>\n",
              "      <td>0.098283</td>\n",
              "      <td>-0.021225</td>\n",
              "      <td>0.041602</td>\n",
              "      <td>0.077386</td>\n",
              "      <td>0.345474</td>\n",
              "      <td>...</td>\n",
              "      <td>0.320661</td>\n",
              "      <td>0.064004</td>\n",
              "      <td>0.126351</td>\n",
              "      <td>0.050327</td>\n",
              "      <td>0.017004</td>\n",
              "      <td>-0.102081</td>\n",
              "      <td>0.039818</td>\n",
              "      <td>0.021328</td>\n",
              "      <td>0.168061</td>\n",
              "      <td>0.080024</td>\n",
              "    </tr>\n",
              "    <tr>\n",
              "      <th>mo_sin_old_rev_tl_op</th>\n",
              "      <td>0.171728</td>\n",
              "      <td>-0.176693</td>\n",
              "      <td>0.157433</td>\n",
              "      <td>-0.168539</td>\n",
              "      <td>0.206060</td>\n",
              "      <td>0.119928</td>\n",
              "      <td>-0.059310</td>\n",
              "      <td>0.039563</td>\n",
              "      <td>0.075959</td>\n",
              "      <td>0.920196</td>\n",
              "      <td>...</td>\n",
              "      <td>-0.042284</td>\n",
              "      <td>0.165870</td>\n",
              "      <td>0.131924</td>\n",
              "      <td>0.031501</td>\n",
              "      <td>-0.026099</td>\n",
              "      <td>-0.087472</td>\n",
              "      <td>0.056467</td>\n",
              "      <td>0.017189</td>\n",
              "      <td>0.212077</td>\n",
              "      <td>0.278971</td>\n",
              "    </tr>\n",
              "    <tr>\n",
              "      <th>mo_sin_rcnt_rev_tl_op</th>\n",
              "      <td>0.051140</td>\n",
              "      <td>-0.129389</td>\n",
              "      <td>0.044982</td>\n",
              "      <td>-0.125108</td>\n",
              "      <td>0.019214</td>\n",
              "      <td>0.027574</td>\n",
              "      <td>-0.066386</td>\n",
              "      <td>-0.029006</td>\n",
              "      <td>0.025640</td>\n",
              "      <td>0.062656</td>\n",
              "      <td>...</td>\n",
              "      <td>-0.020450</td>\n",
              "      <td>-0.229091</td>\n",
              "      <td>-0.234212</td>\n",
              "      <td>0.006881</td>\n",
              "      <td>-0.409068</td>\n",
              "      <td>-0.026399</td>\n",
              "      <td>-0.095621</td>\n",
              "      <td>-0.003425</td>\n",
              "      <td>0.030686</td>\n",
              "      <td>-0.010016</td>\n",
              "    </tr>\n",
              "    <tr>\n",
              "      <th>mo_sin_rcnt_tl</th>\n",
              "      <td>0.028557</td>\n",
              "      <td>-0.161948</td>\n",
              "      <td>0.027111</td>\n",
              "      <td>-0.157346</td>\n",
              "      <td>-0.007167</td>\n",
              "      <td>-0.022923</td>\n",
              "      <td>-0.072864</td>\n",
              "      <td>-0.099706</td>\n",
              "      <td>0.013410</td>\n",
              "      <td>0.040017</td>\n",
              "      <td>...</td>\n",
              "      <td>-0.132353</td>\n",
              "      <td>-0.147213</td>\n",
              "      <td>-0.224590</td>\n",
              "      <td>0.005039</td>\n",
              "      <td>-0.489472</td>\n",
              "      <td>-0.015768</td>\n",
              "      <td>-0.081816</td>\n",
              "      <td>-0.007118</td>\n",
              "      <td>-0.064160</td>\n",
              "      <td>0.006288</td>\n",
              "    </tr>\n",
              "    <tr>\n",
              "      <th>mort_acc</th>\n",
              "      <td>0.230686</td>\n",
              "      <td>-0.078906</td>\n",
              "      <td>0.204488</td>\n",
              "      <td>-0.074191</td>\n",
              "      <td>0.193274</td>\n",
              "      <td>0.197557</td>\n",
              "      <td>-0.063388</td>\n",
              "      <td>-0.038778</td>\n",
              "      <td>0.068749</td>\n",
              "      <td>0.283781</td>\n",
              "      <td>...</td>\n",
              "      <td>0.067786</td>\n",
              "      <td>0.062209</td>\n",
              "      <td>0.121721</td>\n",
              "      <td>0.031236</td>\n",
              "      <td>0.055163</td>\n",
              "      <td>-0.039636</td>\n",
              "      <td>0.028768</td>\n",
              "      <td>-0.009785</td>\n",
              "      <td>0.534052</td>\n",
              "      <td>0.209046</td>\n",
              "    </tr>\n",
              "    <tr>\n",
              "      <th>mths_since_recent_bc</th>\n",
              "      <td>0.033760</td>\n",
              "      <td>-0.105979</td>\n",
              "      <td>0.028190</td>\n",
              "      <td>-0.103037</td>\n",
              "      <td>0.041617</td>\n",
              "      <td>0.020608</td>\n",
              "      <td>-0.064359</td>\n",
              "      <td>-0.011907</td>\n",
              "      <td>0.047105</td>\n",
              "      <td>0.101687</td>\n",
              "      <td>...</td>\n",
              "      <td>-0.011569</td>\n",
              "      <td>-0.207244</td>\n",
              "      <td>-0.209592</td>\n",
              "      <td>0.018217</td>\n",
              "      <td>-0.310854</td>\n",
              "      <td>-0.044102</td>\n",
              "      <td>-0.076474</td>\n",
              "      <td>-0.004375</td>\n",
              "      <td>0.037401</td>\n",
              "      <td>-0.075670</td>\n",
              "    </tr>\n",
              "    <tr>\n",
              "      <th>num_accts_ever_120_pd</th>\n",
              "      <td>-0.057454</td>\n",
              "      <td>0.052323</td>\n",
              "      <td>-0.047645</td>\n",
              "      <td>0.052359</td>\n",
              "      <td>0.015804</td>\n",
              "      <td>0.011659</td>\n",
              "      <td>0.014596</td>\n",
              "      <td>-0.046308</td>\n",
              "      <td>0.193814</td>\n",
              "      <td>0.084200</td>\n",
              "      <td>...</td>\n",
              "      <td>0.125744</td>\n",
              "      <td>-0.029575</td>\n",
              "      <td>0.017855</td>\n",
              "      <td>0.278689</td>\n",
              "      <td>0.087037</td>\n",
              "      <td>-0.550018</td>\n",
              "      <td>-0.019870</td>\n",
              "      <td>0.008898</td>\n",
              "      <td>0.003961</td>\n",
              "      <td>-0.136532</td>\n",
              "    </tr>\n",
              "    <tr>\n",
              "      <th>num_actv_bc_tl</th>\n",
              "      <td>0.218542</td>\n",
              "      <td>-0.032885</td>\n",
              "      <td>0.210559</td>\n",
              "      <td>-0.031648</td>\n",
              "      <td>0.072392</td>\n",
              "      <td>0.105664</td>\n",
              "      <td>0.043110</td>\n",
              "      <td>0.162382</td>\n",
              "      <td>-0.049640</td>\n",
              "      <td>0.128984</td>\n",
              "      <td>...</td>\n",
              "      <td>-0.037135</td>\n",
              "      <td>0.797397</td>\n",
              "      <td>0.549487</td>\n",
              "      <td>-0.038833</td>\n",
              "      <td>0.163356</td>\n",
              "      <td>0.141803</td>\n",
              "      <td>-0.074360</td>\n",
              "      <td>0.012817</td>\n",
              "      <td>0.154390</td>\n",
              "      <td>0.501342</td>\n",
              "    </tr>\n",
              "    <tr>\n",
              "      <th>num_actv_rev_tl</th>\n",
              "      <td>0.170240</td>\n",
              "      <td>0.044303</td>\n",
              "      <td>0.166531</td>\n",
              "      <td>0.043368</td>\n",
              "      <td>0.124079</td>\n",
              "      <td>0.076523</td>\n",
              "      <td>0.075552</td>\n",
              "      <td>0.241526</td>\n",
              "      <td>-0.008121</td>\n",
              "      <td>0.164503</td>\n",
              "      <td>...</td>\n",
              "      <td>-0.005764</td>\n",
              "      <td>0.974428</td>\n",
              "      <td>0.662096</td>\n",
              "      <td>-0.017073</td>\n",
              "      <td>0.268292</td>\n",
              "      <td>0.101120</td>\n",
              "      <td>-0.020256</td>\n",
              "      <td>0.008792</td>\n",
              "      <td>0.139098</td>\n",
              "      <td>0.312727</td>\n",
              "    </tr>\n",
              "    <tr>\n",
              "      <th>num_bc_sats</th>\n",
              "      <td>0.236286</td>\n",
              "      <td>-0.100125</td>\n",
              "      <td>0.220807</td>\n",
              "      <td>-0.095119</td>\n",
              "      <td>0.065203</td>\n",
              "      <td>0.118033</td>\n",
              "      <td>0.016705</td>\n",
              "      <td>0.108584</td>\n",
              "      <td>-0.032041</td>\n",
              "      <td>0.159215</td>\n",
              "      <td>...</td>\n",
              "      <td>-0.029395</td>\n",
              "      <td>0.642950</td>\n",
              "      <td>0.603482</td>\n",
              "      <td>-0.013692</td>\n",
              "      <td>0.226792</td>\n",
              "      <td>0.141759</td>\n",
              "      <td>-0.048381</td>\n",
              "      <td>0.003068</td>\n",
              "      <td>0.189202</td>\n",
              "      <td>0.606310</td>\n",
              "    </tr>\n",
              "    <tr>\n",
              "      <th>num_bc_tl</th>\n",
              "      <td>0.215707</td>\n",
              "      <td>-0.122410</td>\n",
              "      <td>0.197155</td>\n",
              "      <td>-0.115757</td>\n",
              "      <td>0.108429</td>\n",
              "      <td>0.118974</td>\n",
              "      <td>0.000048</td>\n",
              "      <td>0.080429</td>\n",
              "      <td>0.027150</td>\n",
              "      <td>0.274738</td>\n",
              "      <td>...</td>\n",
              "      <td>0.024095</td>\n",
              "      <td>0.490113</td>\n",
              "      <td>0.522128</td>\n",
              "      <td>0.016242</td>\n",
              "      <td>0.229575</td>\n",
              "      <td>0.054219</td>\n",
              "      <td>0.032633</td>\n",
              "      <td>-0.009058</td>\n",
              "      <td>0.198068</td>\n",
              "      <td>0.504490</td>\n",
              "    </tr>\n",
              "    <tr>\n",
              "      <th>num_il_tl</th>\n",
              "      <td>0.077000</td>\n",
              "      <td>0.042056</td>\n",
              "      <td>0.057318</td>\n",
              "      <td>0.041341</td>\n",
              "      <td>-0.052867</td>\n",
              "      <td>0.079263</td>\n",
              "      <td>0.028356</td>\n",
              "      <td>0.214518</td>\n",
              "      <td>0.083155</td>\n",
              "      <td>-0.005030</td>\n",
              "      <td>...</td>\n",
              "      <td>1.000000</td>\n",
              "      <td>-0.001121</td>\n",
              "      <td>0.383181</td>\n",
              "      <td>0.059125</td>\n",
              "      <td>0.193010</td>\n",
              "      <td>0.011538</td>\n",
              "      <td>-0.006541</td>\n",
              "      <td>-0.013431</td>\n",
              "      <td>0.174025</td>\n",
              "      <td>-0.027542</td>\n",
              "    </tr>\n",
              "    <tr>\n",
              "      <th>num_rev_tl_bal_gt_0</th>\n",
              "      <td>0.168320</td>\n",
              "      <td>0.045848</td>\n",
              "      <td>0.164493</td>\n",
              "      <td>0.044596</td>\n",
              "      <td>0.124943</td>\n",
              "      <td>0.075099</td>\n",
              "      <td>0.076582</td>\n",
              "      <td>0.244823</td>\n",
              "      <td>-0.013506</td>\n",
              "      <td>0.156546</td>\n",
              "      <td>...</td>\n",
              "      <td>-0.001121</td>\n",
              "      <td>1.000000</td>\n",
              "      <td>0.672258</td>\n",
              "      <td>-0.030213</td>\n",
              "      <td>0.252313</td>\n",
              "      <td>0.116031</td>\n",
              "      <td>-0.036275</td>\n",
              "      <td>0.009197</td>\n",
              "      <td>0.136309</td>\n",
              "      <td>0.306983</td>\n",
              "    </tr>\n",
              "    <tr>\n",
              "      <th>num_sats</th>\n",
              "      <td>0.194392</td>\n",
              "      <td>-0.020052</td>\n",
              "      <td>0.175441</td>\n",
              "      <td>-0.018665</td>\n",
              "      <td>0.037812</td>\n",
              "      <td>0.117666</td>\n",
              "      <td>0.042524</td>\n",
              "      <td>0.272092</td>\n",
              "      <td>0.039211</td>\n",
              "      <td>0.128221</td>\n",
              "      <td>...</td>\n",
              "      <td>0.383181</td>\n",
              "      <td>0.672258</td>\n",
              "      <td>1.000000</td>\n",
              "      <td>-0.003649</td>\n",
              "      <td>0.357318</td>\n",
              "      <td>0.131922</td>\n",
              "      <td>-0.045478</td>\n",
              "      <td>-0.006763</td>\n",
              "      <td>0.283878</td>\n",
              "      <td>0.365760</td>\n",
              "    </tr>\n",
              "    <tr>\n",
              "      <th>num_tl_90g_dpd_24m</th>\n",
              "      <td>-0.036197</td>\n",
              "      <td>0.031314</td>\n",
              "      <td>-0.029522</td>\n",
              "      <td>0.032100</td>\n",
              "      <td>-0.000096</td>\n",
              "      <td>0.002045</td>\n",
              "      <td>0.010214</td>\n",
              "      <td>-0.015453</td>\n",
              "      <td>0.646252</td>\n",
              "      <td>0.038736</td>\n",
              "      <td>...</td>\n",
              "      <td>0.059125</td>\n",
              "      <td>-0.030213</td>\n",
              "      <td>-0.003649</td>\n",
              "      <td>1.000000</td>\n",
              "      <td>0.011564</td>\n",
              "      <td>-0.277826</td>\n",
              "      <td>0.015502</td>\n",
              "      <td>-0.000582</td>\n",
              "      <td>-0.002863</td>\n",
              "      <td>-0.068191</td>\n",
              "    </tr>\n",
              "    <tr>\n",
              "      <th>num_tl_op_past_12m</th>\n",
              "      <td>-0.022273</td>\n",
              "      <td>0.277870</td>\n",
              "      <td>-0.007659</td>\n",
              "      <td>0.270366</td>\n",
              "      <td>0.024857</td>\n",
              "      <td>0.043866</td>\n",
              "      <td>0.114124</td>\n",
              "      <td>0.085706</td>\n",
              "      <td>-0.015684</td>\n",
              "      <td>-0.013031</td>\n",
              "      <td>...</td>\n",
              "      <td>0.193010</td>\n",
              "      <td>0.252313</td>\n",
              "      <td>0.357318</td>\n",
              "      <td>0.011564</td>\n",
              "      <td>1.000000</td>\n",
              "      <td>0.001879</td>\n",
              "      <td>0.124976</td>\n",
              "      <td>0.022434</td>\n",
              "      <td>0.068503</td>\n",
              "      <td>0.016401</td>\n",
              "    </tr>\n",
              "    <tr>\n",
              "      <th>pct_tl_nvr_dlq</th>\n",
              "      <td>0.108698</td>\n",
              "      <td>-0.058287</td>\n",
              "      <td>0.089786</td>\n",
              "      <td>-0.059191</td>\n",
              "      <td>-0.024404</td>\n",
              "      <td>-0.003309</td>\n",
              "      <td>-0.003712</td>\n",
              "      <td>0.100037</td>\n",
              "      <td>-0.450007</td>\n",
              "      <td>-0.101439</td>\n",
              "      <td>...</td>\n",
              "      <td>0.011538</td>\n",
              "      <td>0.116031</td>\n",
              "      <td>0.131922</td>\n",
              "      <td>-0.277826</td>\n",
              "      <td>0.001879</td>\n",
              "      <td>1.000000</td>\n",
              "      <td>0.005310</td>\n",
              "      <td>-0.033779</td>\n",
              "      <td>0.032123</td>\n",
              "      <td>0.228467</td>\n",
              "    </tr>\n",
              "    <tr>\n",
              "      <th>pub_rec_bankruptcies</th>\n",
              "      <td>-0.113125</td>\n",
              "      <td>0.073963</td>\n",
              "      <td>-0.108618</td>\n",
              "      <td>0.076689</td>\n",
              "      <td>0.015940</td>\n",
              "      <td>-0.047328</td>\n",
              "      <td>0.033782</td>\n",
              "      <td>-0.036079</td>\n",
              "      <td>-0.041680</td>\n",
              "      <td>0.059835</td>\n",
              "      <td>...</td>\n",
              "      <td>-0.006541</td>\n",
              "      <td>-0.036275</td>\n",
              "      <td>-0.045478</td>\n",
              "      <td>0.015502</td>\n",
              "      <td>0.124976</td>\n",
              "      <td>0.005310</td>\n",
              "      <td>1.000000</td>\n",
              "      <td>0.034108</td>\n",
              "      <td>-0.122971</td>\n",
              "      <td>-0.168175</td>\n",
              "    </tr>\n",
              "    <tr>\n",
              "      <th>tax_liens</th>\n",
              "      <td>-0.000109</td>\n",
              "      <td>0.012398</td>\n",
              "      <td>0.008227</td>\n",
              "      <td>0.012711</td>\n",
              "      <td>0.012648</td>\n",
              "      <td>0.034150</td>\n",
              "      <td>0.007485</td>\n",
              "      <td>-0.031683</td>\n",
              "      <td>0.006831</td>\n",
              "      <td>0.033091</td>\n",
              "      <td>...</td>\n",
              "      <td>-0.013431</td>\n",
              "      <td>0.009197</td>\n",
              "      <td>-0.006763</td>\n",
              "      <td>-0.000582</td>\n",
              "      <td>0.022434</td>\n",
              "      <td>-0.033779</td>\n",
              "      <td>0.034108</td>\n",
              "      <td>1.000000</td>\n",
              "      <td>-0.001615</td>\n",
              "      <td>-0.026264</td>\n",
              "    </tr>\n",
              "    <tr>\n",
              "      <th>tot_hi_cred_lim</th>\n",
              "      <td>0.343293</td>\n",
              "      <td>-0.125707</td>\n",
              "      <td>0.318101</td>\n",
              "      <td>-0.120292</td>\n",
              "      <td>0.116254</td>\n",
              "      <td>0.376068</td>\n",
              "      <td>-0.075054</td>\n",
              "      <td>0.009676</td>\n",
              "      <td>0.053765</td>\n",
              "      <td>0.205531</td>\n",
              "      <td>...</td>\n",
              "      <td>0.174025</td>\n",
              "      <td>0.136309</td>\n",
              "      <td>0.283878</td>\n",
              "      <td>-0.002863</td>\n",
              "      <td>0.068503</td>\n",
              "      <td>0.032123</td>\n",
              "      <td>-0.122971</td>\n",
              "      <td>-0.001615</td>\n",
              "      <td>1.000000</td>\n",
              "      <td>0.411744</td>\n",
              "    </tr>\n",
              "    <tr>\n",
              "      <th>total_bc_limit</th>\n",
              "      <td>0.396757</td>\n",
              "      <td>-0.268438</td>\n",
              "      <td>0.368598</td>\n",
              "      <td>-0.257777</td>\n",
              "      <td>0.062905</td>\n",
              "      <td>0.244823</td>\n",
              "      <td>-0.077523</td>\n",
              "      <td>0.033725</td>\n",
              "      <td>-0.083822</td>\n",
              "      <td>0.250312</td>\n",
              "      <td>...</td>\n",
              "      <td>-0.027542</td>\n",
              "      <td>0.306983</td>\n",
              "      <td>0.365760</td>\n",
              "      <td>-0.068191</td>\n",
              "      <td>0.016401</td>\n",
              "      <td>0.228467</td>\n",
              "      <td>-0.168175</td>\n",
              "      <td>-0.026264</td>\n",
              "      <td>0.411744</td>\n",
              "      <td>1.000000</td>\n",
              "    </tr>\n",
              "  </tbody>\n",
              "</table>\n",
              "<p>49 rows × 49 columns</p>\n",
              "</div>\n",
              "      <button class=\"colab-df-convert\" onclick=\"convertToInteractive('df-31db1f0b-47b2-48fc-9da7-5d6fa765dc75')\"\n",
              "              title=\"Convert this dataframe to an interactive table.\"\n",
              "              style=\"display:none;\">\n",
              "        \n",
              "  <svg xmlns=\"http://www.w3.org/2000/svg\" height=\"24px\"viewBox=\"0 0 24 24\"\n",
              "       width=\"24px\">\n",
              "    <path d=\"M0 0h24v24H0V0z\" fill=\"none\"/>\n",
              "    <path d=\"M18.56 5.44l.94 2.06.94-2.06 2.06-.94-2.06-.94-.94-2.06-.94 2.06-2.06.94zm-11 1L8.5 8.5l.94-2.06 2.06-.94-2.06-.94L8.5 2.5l-.94 2.06-2.06.94zm10 10l.94 2.06.94-2.06 2.06-.94-2.06-.94-.94-2.06-.94 2.06-2.06.94z\"/><path d=\"M17.41 7.96l-1.37-1.37c-.4-.4-.92-.59-1.43-.59-.52 0-1.04.2-1.43.59L10.3 9.45l-7.72 7.72c-.78.78-.78 2.05 0 2.83L4 21.41c.39.39.9.59 1.41.59.51 0 1.02-.2 1.41-.59l7.78-7.78 2.81-2.81c.8-.78.8-2.07 0-2.86zM5.41 20L4 18.59l7.72-7.72 1.47 1.35L5.41 20z\"/>\n",
              "  </svg>\n",
              "      </button>\n",
              "      \n",
              "  <style>\n",
              "    .colab-df-container {\n",
              "      display:flex;\n",
              "      flex-wrap:wrap;\n",
              "      gap: 12px;\n",
              "    }\n",
              "\n",
              "    .colab-df-convert {\n",
              "      background-color: #E8F0FE;\n",
              "      border: none;\n",
              "      border-radius: 50%;\n",
              "      cursor: pointer;\n",
              "      display: none;\n",
              "      fill: #1967D2;\n",
              "      height: 32px;\n",
              "      padding: 0 0 0 0;\n",
              "      width: 32px;\n",
              "    }\n",
              "\n",
              "    .colab-df-convert:hover {\n",
              "      background-color: #E2EBFA;\n",
              "      box-shadow: 0px 1px 2px rgba(60, 64, 67, 0.3), 0px 1px 3px 1px rgba(60, 64, 67, 0.15);\n",
              "      fill: #174EA6;\n",
              "    }\n",
              "\n",
              "    [theme=dark] .colab-df-convert {\n",
              "      background-color: #3B4455;\n",
              "      fill: #D2E3FC;\n",
              "    }\n",
              "\n",
              "    [theme=dark] .colab-df-convert:hover {\n",
              "      background-color: #434B5C;\n",
              "      box-shadow: 0px 1px 3px 1px rgba(0, 0, 0, 0.15);\n",
              "      filter: drop-shadow(0px 1px 2px rgba(0, 0, 0, 0.3));\n",
              "      fill: #FFFFFF;\n",
              "    }\n",
              "  </style>\n",
              "\n",
              "      <script>\n",
              "        const buttonEl =\n",
              "          document.querySelector('#df-31db1f0b-47b2-48fc-9da7-5d6fa765dc75 button.colab-df-convert');\n",
              "        buttonEl.style.display =\n",
              "          google.colab.kernel.accessAllowed ? 'block' : 'none';\n",
              "\n",
              "        async function convertToInteractive(key) {\n",
              "          const element = document.querySelector('#df-31db1f0b-47b2-48fc-9da7-5d6fa765dc75');\n",
              "          const dataTable =\n",
              "            await google.colab.kernel.invokeFunction('convertToInteractive',\n",
              "                                                     [key], {});\n",
              "          if (!dataTable) return;\n",
              "\n",
              "          const docLinkHtml = 'Like what you see? Visit the ' +\n",
              "            '<a target=\"_blank\" href=https://colab.research.google.com/notebooks/data_table.ipynb>data table notebook</a>'\n",
              "            + ' to learn more about interactive tables.';\n",
              "          element.innerHTML = '';\n",
              "          dataTable['output_type'] = 'display_data';\n",
              "          await google.colab.output.renderOutput(dataTable, element);\n",
              "          const docLink = document.createElement('div');\n",
              "          docLink.innerHTML = docLinkHtml;\n",
              "          element.appendChild(docLink);\n",
              "        }\n",
              "      </script>\n",
              "    </div>\n",
              "  </div>\n",
              "  "
            ]
          },
          "metadata": {},
          "execution_count": 29
        }
      ]
    },
    {
      "cell_type": "markdown",
      "metadata": {
        "id": "0xqvkvpU9AKO"
      },
      "source": [
        "**Handling Missing Values**"
      ]
    },
    {
      "cell_type": "markdown",
      "metadata": {
        "id": "lIRiDOaI86m4"
      },
      "source": [
        "Printing number of null values in each column:"
      ]
    },
    {
      "cell_type": "code",
      "execution_count": null,
      "metadata": {
        "colab": {
          "base_uri": "https://localhost:8080/"
        },
        "id": "XU4VsjESm3Sh",
        "outputId": "7bb4b15c-ba75-46c9-8a7e-e4a8f806e332"
      },
      "outputs": [
        {
          "output_type": "execute_result",
          "data": {
            "text/plain": [
              "loan_amnt                   0\n",
              "term                        0\n",
              "int_rate                    0\n",
              "installment                 0\n",
              "grade                       0\n",
              "home_ownership              0\n",
              "annual_inc                  0\n",
              "verification_status         0\n",
              "loan_status                 0\n",
              "purpose                     0\n",
              "dti                         2\n",
              "earliest_cr_line            0\n",
              "fico_range_low              0\n",
              "fico_range_high             0\n",
              "open_acc                    0\n",
              "revol_bal                   0\n",
              "revol_util                 69\n",
              "initial_list_status         0\n",
              "tot_cur_bal                 0\n",
              "total_rev_hi_lim            0\n",
              "acc_open_past_24mths        0\n",
              "avg_cur_bal                 0\n",
              "bc_open_to_buy           1675\n",
              "mo_sin_old_il_acct       5260\n",
              "mo_sin_old_rev_tl_op        0\n",
              "mo_sin_rcnt_rev_tl_op       0\n",
              "mo_sin_rcnt_tl              0\n",
              "mort_acc                    0\n",
              "mths_since_recent_bc     1616\n",
              "num_actv_bc_tl              0\n",
              "num_actv_rev_tl             0\n",
              "num_il_tl                   0\n",
              "num_rev_tl_bal_gt_0         0\n",
              "num_sats                    0\n",
              "num_tl_op_past_12m          0\n",
              "tot_hi_cred_lim             0\n",
              "total_bc_limit              0\n",
              "dtype: int64"
            ]
          },
          "metadata": {},
          "execution_count": 30
        }
      ],
      "source": [
        "accepted.isnull().sum()"
      ]
    },
    {
      "cell_type": "markdown",
      "metadata": {
        "id": "Hbr9Wd4J9hFh"
      },
      "source": [
        "Replacing certain missing values and dropping the rest."
      ]
    },
    {
      "cell_type": "code",
      "execution_count": null,
      "metadata": {
        "id": "YFlOCEzRm7AR"
      },
      "outputs": [],
      "source": [
        "accepted['revol_util']=accepted['revol_util'].fillna(accepted['revol_util'].mean())\n",
        "accepted['bc_open_to_buy']=accepted['bc_open_to_buy'].fillna(0)\n",
        "accepted['dti']=accepted['dti'].fillna(accepted['dti'].mean())\n",
        "accepted=accepted.dropna()"
      ]
    },
    {
      "cell_type": "markdown",
      "metadata": {
        "id": "udvzOWFvUqEr"
      },
      "source": [
        "**One-hot encoding nominal features**"
      ]
    },
    {
      "cell_type": "code",
      "execution_count": null,
      "metadata": {
        "id": "e0man7khUqEr",
        "outputId": "2a9c3b4b-1db9-4f56-8da9-270e29bb562c",
        "colab": {
          "base_uri": "https://localhost:8080/"
        }
      },
      "outputs": [
        {
          "output_type": "execute_result",
          "data": {
            "text/plain": [
              "loan_amnt                float64\n",
              "term                      object\n",
              "int_rate                 float64\n",
              "installment              float64\n",
              "grade                      int64\n",
              "home_ownership            object\n",
              "annual_inc               float64\n",
              "verification_status       object\n",
              "loan_status                int64\n",
              "purpose                   object\n",
              "dti                      float64\n",
              "earliest_cr_line           int64\n",
              "fico_range_low           float64\n",
              "fico_range_high          float64\n",
              "open_acc                 float64\n",
              "revol_bal                float64\n",
              "revol_util               float64\n",
              "initial_list_status       object\n",
              "tot_cur_bal              float64\n",
              "total_rev_hi_lim         float64\n",
              "acc_open_past_24mths     float64\n",
              "avg_cur_bal              float64\n",
              "bc_open_to_buy           float64\n",
              "mo_sin_old_il_acct       float64\n",
              "mo_sin_old_rev_tl_op     float64\n",
              "mo_sin_rcnt_rev_tl_op    float64\n",
              "mo_sin_rcnt_tl           float64\n",
              "mort_acc                 float64\n",
              "mths_since_recent_bc     float64\n",
              "num_actv_bc_tl           float64\n",
              "num_actv_rev_tl          float64\n",
              "num_il_tl                float64\n",
              "num_rev_tl_bal_gt_0      float64\n",
              "num_sats                 float64\n",
              "num_tl_op_past_12m       float64\n",
              "tot_hi_cred_lim          float64\n",
              "total_bc_limit           float64\n",
              "dtype: object"
            ]
          },
          "metadata": {},
          "execution_count": 32
        }
      ],
      "source": [
        "accepted.dtypes"
      ]
    },
    {
      "cell_type": "code",
      "execution_count": null,
      "metadata": {
        "id": "F9pJy80lUqEr"
      },
      "outputs": [],
      "source": [
        "nominal_columns = [\"home_ownership\", \"verification_status\", \"purpose\", \"term\", 'initial_list_status']\n",
        "dummy_df = pd.get_dummies(accepted[nominal_columns])\n",
        "processed_data = pd.concat([accepted, dummy_df], axis=1)\n",
        "processed_data=processed_data.drop(nominal_columns,axis=1)"
      ]
    },
    {
      "cell_type": "code",
      "execution_count": null,
      "metadata": {
        "id": "yZomh1ekUqEr"
      },
      "outputs": [],
      "source": [
        "y=np.array(processed_data['loan_status'])\n",
        "processed_data_x=processed_data.drop(\"loan_status\",axis=1)\n",
        "X=np.array(processed_data_x)"
      ]
    },
    {
      "cell_type": "markdown",
      "metadata": {
        "id": "-sjtqM7vUqEs"
      },
      "source": [
        "Using average of fico high and low values:"
      ]
    },
    {
      "cell_type": "code",
      "execution_count": null,
      "metadata": {
        "id": "-jIgHYO4UqEs"
      },
      "outputs": [],
      "source": [
        "processed_data_x['fico']=(processed_data_x['fico_range_low']+processed_data_x['fico_range_high'])/2\n",
        "processed_data_x=processed_data_x.drop(['fico_range_low', 'fico_range_high'], axis=1)"
      ]
    },
    {
      "cell_type": "markdown",
      "metadata": {
        "id": "BVvh870y-Xab"
      },
      "source": [
        "Scaling the features:"
      ]
    },
    {
      "cell_type": "code",
      "execution_count": null,
      "metadata": {
        "colab": {
          "base_uri": "https://localhost:8080/"
        },
        "id": "Zs4hhgabmVsm",
        "outputId": "a0827c44-5197-48c5-fa19-1b7fd1524cae"
      },
      "outputs": [
        {
          "output_type": "execute_result",
          "data": {
            "text/plain": [
              "array([[0.07647059, 0.36628644, 0.07566978, ..., 0.        , 0.        ,\n",
              "        1.        ],\n",
              "       [0.69705882, 0.2817913 , 0.56302204, ..., 0.        , 0.        ,\n",
              "        1.        ],\n",
              "       [0.55882353, 0.23067174, 0.29208983, ..., 1.        , 0.        ,\n",
              "        1.        ],\n",
              "       ...,\n",
              "       [0.77941176, 0.39416984, 0.44343638, ..., 1.        , 1.        ,\n",
              "        0.        ],\n",
              "       [0.17647059, 0.23954373, 0.14983679, ..., 0.        , 0.        ,\n",
              "        1.        ],\n",
              "       [0.64705882, 0.36628644, 0.36366369, ..., 1.        , 0.        ,\n",
              "        1.        ]])"
            ]
          },
          "metadata": {},
          "execution_count": 36
        }
      ],
      "source": [
        "from sklearn.preprocessing import MinMaxScaler\n",
        "scaler=MinMaxScaler()\n",
        "scaler.fit_transform(X)"
      ]
    },
    {
      "cell_type": "markdown",
      "metadata": {
        "id": "4t0X1NHG_MQi"
      },
      "source": [
        "Splitting the dataset into train and test:"
      ]
    },
    {
      "cell_type": "code",
      "execution_count": null,
      "metadata": {
        "id": "MkS6OfG9mYHj"
      },
      "outputs": [],
      "source": [
        "from sklearn.model_selection import train_test_split\n",
        "X_t, X_test, y_t, y_test = train_test_split(X,y,test_size=0.3, shuffle=True, random_state=1)"
      ]
    },
    {
      "cell_type": "markdown",
      "metadata": {
        "id": "zQ3lWRX0ARIX"
      },
      "source": [
        "Splitting the training dataset into train and validation set:"
      ]
    },
    {
      "cell_type": "code",
      "execution_count": null,
      "metadata": {
        "colab": {
          "base_uri": "https://localhost:8080/"
        },
        "id": "ilsqvhesmgY0",
        "outputId": "2f7faca0-448a-4aad-8557-37fb8303512a"
      },
      "outputs": [
        {
          "output_type": "execute_result",
          "data": {
            "text/plain": [
              "((82922, 55), (35539, 55), (82922,), (35539,))"
            ]
          },
          "metadata": {},
          "execution_count": 38
        }
      ],
      "source": [
        "X_train, X_val, y_train, y_val = train_test_split(X_t,y_t,test_size=0.3, shuffle=True, random_state=1)\n",
        "X_train.shape, X_val.shape, y_train.shape, y_val.shape"
      ]
    },
    {
      "cell_type": "markdown",
      "metadata": {
        "id": "EcjsiyAvBBui"
      },
      "source": [
        "Function to visualize heatmap of confusion matrix:"
      ]
    },
    {
      "cell_type": "code",
      "execution_count": null,
      "metadata": {
        "id": "XPAM5z1Ghamn"
      },
      "outputs": [],
      "source": [
        "def confusion_matrix_heatmap(y_test, preds):\n",
        "    \"\"\"Function to plot a confusion matrix\"\"\"\n",
        "    labels = list(set(y_test))   # get the labels in the y_test\n",
        "    # print(labels)\n",
        "    cm = confusion_matrix(y_test, preds)\n",
        "    fig = plt.figure(figsize=(5,5))\n",
        "    ax = fig.add_subplot(111)\n",
        "    cax = ax.matshow(cm)\n",
        "    plt.title('Confusion matrix of the classifier')\n",
        "    fig.colorbar(cax)\n",
        "    ax.set_xticks(np.arange(len(labels)))\n",
        "    ax.set_yticks(np.arange(len(labels)))\n",
        "    ax.set_xticklabels( labels, rotation=2)\n",
        "    ax.set_yticklabels( labels)\n",
        "\n",
        "    for i in range(len(cm)):\n",
        "        for j in range(len(cm)):\n",
        "            text = ax.text(j, i, cm[i, j],\n",
        "                           ha=\"center\", va=\"center\", color=\"w\")\n",
        "\n",
        "    plt.xlabel('Predicted')\n",
        "    plt.ylabel('True')\n",
        "    \n",
        "    b, t = plt.ylim() # discover the values for bottom and top\n",
        "    b += 0.5 # Add 0.5 to the bottom\n",
        "    t -= 0.5 # Subtract 0.5 from the top\n",
        "    plt.ylim(b, t) # update the ylim(bottom, top) values\n",
        "    plt.show() "
      ]
    },
    {
      "cell_type": "markdown",
      "metadata": {
        "id": "00AG7qMmBH7K"
      },
      "source": [
        "Fitting various supervised classifiers to the dataset and testing the accuracy on validation set:"
      ]
    },
    {
      "cell_type": "code",
      "execution_count": null,
      "metadata": {
        "colab": {
          "base_uri": "https://localhost:8080/",
          "height": 601
        },
        "id": "_U_lrIxoi7pi",
        "outputId": "50b80250-ecad-450b-97dd-3e64a959d44d"
      },
      "outputs": [
        {
          "output_type": "stream",
          "name": "stdout",
          "text": [
            "Default Rate: 0.21843868864336172\n",
            "Training Accuracy 1.0\n",
            "Validation  Accuracy 0.8073102788485889\n",
            "              precision    recall  f1-score   support\n",
            "\n",
            "           0       0.82      0.97      0.89     28423\n",
            "           1       0.57      0.15      0.24      7116\n",
            "\n",
            "    accuracy                           0.81     35539\n",
            "   macro avg       0.70      0.56      0.57     35539\n",
            "weighted avg       0.77      0.81      0.76     35539\n",
            "\n",
            "(0.6955503064909627, 0.5619171592205656, 0.5652249211970292, None)\n"
          ]
        },
        {
          "output_type": "display_data",
          "data": {
            "text/plain": [
              "<Figure size 360x360 with 2 Axes>"
            ],
            "image/png": "[encoded data removed]"
          },
          "metadata": {
            "needs_background": "light"
          }
        },
        {
          "output_type": "stream",
          "name": "stdout",
          "text": [
            "None\n"
          ]
        }
      ],
      "source": [
        "rf = RandomForestClassifier(n_estimators= 100).fit(X_train, y_train)\n",
        "train_preds=rf.predict(X_train)\n",
        "val_preds_rf=rf.predict(X_val)\n",
        "cm=confusion_matrix(y_val,val_preds_rf)\n",
        "default_rate_rf=cm[1][0]/cm[0][0]\n",
        "print(\"Default Rate:\",default_rate_rf)\n",
        "print('Training Accuracy', np.mean(train_preds==y_train))\n",
        "print('Validation  Accuracy', np.mean(val_preds_rf==y_val))\n",
        "print(classification_report(y_val, val_preds_rf))\n",
        "print(precision_recall_fscore_support(y_val, val_preds_rf, average='macro'))\n",
        "print(confusion_matrix_heatmap(y_val, val_preds_rf))"
      ]
    },
    {
      "cell_type": "code",
      "execution_count": null,
      "metadata": {
        "colab": {
          "base_uri": "https://localhost:8080/",
          "height": 601
        },
        "id": "fB9_begsiFU5",
        "outputId": "b474df3c-f5c0-476e-d3cc-ae9a77f63393"
      },
      "outputs": [
        {
          "output_type": "stream",
          "name": "stdout",
          "text": [
            "Default Rate: 0.23580161276337466\n",
            "Training Accuracy 1.0\n",
            "Validation  Accuracy 0.6962210529277695\n",
            "              precision    recall  f1-score   support\n",
            "\n",
            "           0       0.81      0.81      0.81     28423\n",
            "           1       0.24      0.24      0.24      7116\n",
            "\n",
            "    accuracy                           0.70     35539\n",
            "   macro avg       0.52      0.52      0.52     35539\n",
            "weighted avg       0.69      0.70      0.70     35539\n",
            "\n",
            "(0.5238023952319795, 0.5235959907418872, 0.523694372111223, None)\n"
          ]
        },
        {
          "output_type": "display_data",
          "data": {
            "text/plain": [
              "<Figure size 360x360 with 2 Axes>"
            ],
            "image/png": "[encoded data removed]"
          },
          "metadata": {
            "needs_background": "light"
          }
        },
        {
          "output_type": "stream",
          "name": "stdout",
          "text": [
            "None\n"
          ]
        }
      ],
      "source": [
        "knn = KNeighborsClassifier(n_neighbors=1).fit(X_train, y_train)\n",
        "train_preds=knn.predict(X_train)\n",
        "val_preds_knn=knn.predict(X_val)\n",
        "cm=confusion_matrix(y_val,val_preds_knn)\n",
        "default_rate_knn=cm[1][0]/cm[0][0]\n",
        "print(\"Default Rate:\",default_rate_knn)\n",
        "print('Training Accuracy', np.mean(train_preds==y_train))\n",
        "print('Validation  Accuracy', np.mean(val_preds_knn==y_val))\n",
        "print(classification_report(y_val, val_preds_knn))\n",
        "print(precision_recall_fscore_support(y_val, val_preds_knn, average='macro'))\n",
        "print(confusion_matrix_heatmap(y_val, val_preds_knn))"
      ]
    },
    {
      "cell_type": "code",
      "execution_count": null,
      "metadata": {
        "colab": {
          "base_uri": "https://localhost:8080/",
          "height": 601
        },
        "id": "oXUuPE_QsO-c",
        "outputId": "130c6454-39f4-435a-c661-8775ffd52e4f"
      },
      "outputs": [
        {
          "output_type": "stream",
          "name": "stdout",
          "text": [
            "Default Rate: 0.20724959700257048\n",
            "Training Accuracy 1.0\n",
            "Validation  Accuracy 0.7122316328540477\n",
            "              precision    recall  f1-score   support\n",
            "\n",
            "           0       0.83      0.81      0.82     28423\n",
            "           1       0.30      0.33      0.32      7116\n",
            "\n",
            "    accuracy                           0.71     35539\n",
            "   macro avg       0.56      0.57      0.57     35539\n",
            "weighted avg       0.72      0.71      0.72     35539\n",
            "\n",
            "(0.5648223722339272, 0.569528343858204, 0.566749286603567, None)\n"
          ]
        },
        {
          "output_type": "display_data",
          "data": {
            "text/plain": [
              "<Figure size 360x360 with 2 Axes>"
            ],
            "image/png": "[encoded data removed]"
          },
          "metadata": {
            "needs_background": "light"
          }
        },
        {
          "output_type": "stream",
          "name": "stdout",
          "text": [
            "None\n"
          ]
        }
      ],
      "source": [
        "dt=DecisionTreeClassifier(random_state=0).fit(X_train, y_train)\n",
        "train_preds=dt.predict(X_train)\n",
        "val_preds_dt=dt.predict(X_val)\n",
        "cm=confusion_matrix(y_val,val_preds_dt)\n",
        "default_rate_dt=cm[1][0]/cm[0][0]\n",
        "print(\"Default Rate:\",default_rate_dt)\n",
        "print('Training Accuracy', np.mean(train_preds==y_train))\n",
        "print('Validation  Accuracy', np.mean(val_preds_dt==y_val))\n",
        "print(classification_report(y_val, val_preds_dt))\n",
        "print(precision_recall_fscore_support(y_val, val_preds_dt, average='macro'))\n",
        "print(confusion_matrix_heatmap(y_val, val_preds_dt))"
      ]
    },
    {
      "cell_type": "code",
      "execution_count": null,
      "metadata": {
        "colab": {
          "base_uri": "https://localhost:8080/",
          "height": 601
        },
        "id": "dUwFjYdpvBRJ",
        "outputId": "e0066933-6590-4e99-e17e-c95b48075365"
      },
      "outputs": [
        {
          "output_type": "stream",
          "name": "stdout",
          "text": [
            "Default Rate: 0.14985862393967955\n",
            "Training Accuracy 0.5353585297026121\n",
            "Validation  Accuracy 0.5301781141844171\n",
            "              precision    recall  f1-score   support\n",
            "\n",
            "           0       0.87      0.49      0.62     28423\n",
            "           1       0.26      0.71      0.38      7116\n",
            "\n",
            "    accuracy                           0.53     35539\n",
            "   macro avg       0.56      0.60      0.50     35539\n",
            "weighted avg       0.75      0.53      0.57     35539\n",
            "\n",
            "(0.5631200230919371, 0.5974019167433162, 0.4999046064124443, None)\n"
          ]
        },
        {
          "output_type": "display_data",
          "data": {
            "text/plain": [
              "<Figure size 360x360 with 2 Axes>"
            ],
            "image/png": "[encoded data removed]"
          },
          "metadata": {
            "needs_background": "light"
          }
        },
        {
          "output_type": "stream",
          "name": "stdout",
          "text": [
            "None\n"
          ]
        }
      ],
      "source": [
        "gnb=GaussianNB().fit(X_train, y_train)\n",
        "train_preds=gnb.predict(X_train)\n",
        "val_preds_gnb=gnb.predict(X_val)\n",
        "cm=confusion_matrix(y_val,val_preds_gnb)\n",
        "default_rate_gnb=cm[1][0]/cm[0][0]\n",
        "print(\"Default Rate:\",default_rate_gnb)\n",
        "print('Training Accuracy', np.mean(train_preds==y_train))\n",
        "print('Validation  Accuracy', np.mean(val_preds_gnb==y_val))\n",
        "print(classification_report(y_val, val_preds_gnb))\n",
        "print(precision_recall_fscore_support(y_val, val_preds_gnb, average='macro'))\n",
        "print(confusion_matrix_heatmap(y_val, val_preds_gnb))"
      ]
    },
    {
      "cell_type": "code",
      "execution_count": null,
      "metadata": {
        "colab": {
          "base_uri": "https://localhost:8080/",
          "height": 601
        },
        "id": "gCEIo3m7wcJu",
        "outputId": "bb197a58-0eec-4033-a169-530d02536f22"
      },
      "outputs": [
        {
          "output_type": "stream",
          "name": "stdout",
          "text": [
            "Default Rate: 0.21706380821322518\n",
            "Training Accuracy 0.8127276235498421\n",
            "Validation  Accuracy 0.8085764934297532\n",
            "              precision    recall  f1-score   support\n",
            "\n",
            "           0       0.82      0.97      0.89     28423\n",
            "           1       0.58      0.16      0.25      7116\n",
            "\n",
            "    accuracy                           0.81     35539\n",
            "   macro avg       0.70      0.56      0.57     35539\n",
            "weighted avg       0.77      0.81      0.76     35539\n",
            "\n",
            "(0.7013478486725622, 0.5646049926670911, 0.5691835263440601, None)\n"
          ]
        },
        {
          "output_type": "display_data",
          "data": {
            "text/plain": [
              "<Figure size 360x360 with 2 Axes>"
            ],
            "image/png": "[encoded data removed]"
          },
          "metadata": {
            "needs_background": "light"
          }
        },
        {
          "output_type": "stream",
          "name": "stdout",
          "text": [
            "None\n"
          ]
        }
      ],
      "source": [
        "xgbclf=xgb.XGBClassifier(objective=\"binary:logistic\", random_state=42).fit(X_train, y_train)\n",
        "train_preds=xgbclf.predict(X_train)\n",
        "val_preds_xgb=xgbclf.predict(X_val)\n",
        "cm=confusion_matrix(y_val,val_preds_xgb)\n",
        "default_rate_xgb=cm[1][0]/cm[0][0]\n",
        "print(\"Default Rate:\",default_rate_xgb)\n",
        "print('Training Accuracy', np.mean(train_preds==y_train))\n",
        "print('Validation  Accuracy', np.mean(val_preds_xgb==y_val))\n",
        "print(classification_report(y_val, val_preds_xgb))\n",
        "print(precision_recall_fscore_support(y_val, val_preds_xgb, average='macro'))\n",
        "print(confusion_matrix_heatmap(y_val, val_preds_xgb))"
      ]
    },
    {
      "cell_type": "code",
      "execution_count": null,
      "metadata": {
        "colab": {
          "base_uri": "https://localhost:8080/",
          "height": 601
        },
        "id": "JAqaxqdN1QSL",
        "outputId": "11118f65-1723-4ea1-bcf0-f49a7d59755b"
      },
      "outputs": [
        {
          "output_type": "stream",
          "name": "stdout",
          "text": [
            "Default Rate: 0.21688759760305065\n",
            "Training Accuracy 0.8097368611466197\n",
            "Validation  Accuracy 0.806972621626945\n",
            "              precision    recall  f1-score   support\n",
            "\n",
            "           0       0.82      0.97      0.89     28423\n",
            "           1       0.56      0.16      0.25      7116\n",
            "\n",
            "    accuracy                           0.81     35539\n",
            "   macro avg       0.69      0.56      0.57     35539\n",
            "weighted avg       0.77      0.81      0.76     35539\n",
            "\n",
            "(0.6923803558264592, 0.5647610853278793, 0.569669544532097, None)\n"
          ]
        },
        {
          "output_type": "display_data",
          "data": {
            "text/plain": [
              "<Figure size 360x360 with 2 Axes>"
            ],
            "image/png": "[encoded data removed]"
          },
          "metadata": {
            "needs_background": "light"
          }
        },
        {
          "output_type": "stream",
          "name": "stdout",
          "text": [
            "None\n"
          ]
        }
      ],
      "source": [
        "from sklearn.model_selection import cross_val_score\n",
        "from sklearn.ensemble import AdaBoostClassifier\n",
        "\n",
        "clf = AdaBoostClassifier(n_estimators=100).fit(X_train,y_train)\n",
        "train_preds=clf.predict(X_train)\n",
        "val_preds_ada=clf.predict(X_val)\n",
        "cm=confusion_matrix(y_val,val_preds_ada)\n",
        "default_rate_ada=cm[1][0]/cm[0][0]\n",
        "print(\"Default Rate:\",default_rate_ada)\n",
        "print('Training Accuracy', np.mean(train_preds==y_train))\n",
        "print('Validation  Accuracy', np.mean(val_preds_ada==y_val))\n",
        "print(classification_report(y_val, val_preds_ada))\n",
        "print(precision_recall_fscore_support(y_val, val_preds_ada, average='macro'))\n",
        "print(confusion_matrix_heatmap(y_val, val_preds_ada))"
      ]
    },
    {
      "cell_type": "markdown",
      "metadata": {
        "id": "P5ACeGGhvA1u"
      },
      "source": [
        "Fitting various unsupervised classifiers to the dataset and testing the accuracy on validation set:"
      ]
    },
    {
      "cell_type": "code",
      "execution_count": null,
      "metadata": {
        "id": "SijKhE9SUqEv",
        "outputId": "d1448449-54a0-4d7b-d09f-70711949077c",
        "colab": {
          "base_uri": "https://localhost:8080/"
        }
      },
      "outputs": [
        {
          "output_type": "stream",
          "name": "stdout",
          "text": [
            "Looking in indexes: https://pypi.org/simple, https://us-python.pkg.dev/colab-wheels/public/simple/\n",
            "Requirement already satisfied: mixture in /usr/local/lib/python3.7/dist-packages (0.2.1)\n"
          ]
        }
      ],
      "source": [
        "!pip install mixture"
      ]
    },
    {
      "cell_type": "code",
      "execution_count": null,
      "metadata": {
        "colab": {
          "base_uri": "https://localhost:8080/",
          "height": 638
        },
        "id": "KGJ4kQqroViZ",
        "outputId": "95a19e71-8355-482d-c45d-dd04ef4126d9"
      },
      "outputs": [
        {
          "output_type": "stream",
          "name": "stdout",
          "text": [
            "Initialization 0\n",
            "Initialization converged: True\t time lapse 2.12514s\t ll -137.48494\n",
            "Default Rate: 0.25096626515066234\n",
            "Training Accuracy 0.7639106630327296\n",
            "Validation  Accuracy 0.761895382537494\n",
            "              precision    recall  f1-score   support\n",
            "\n",
            "           0       0.80      0.94      0.86     28423\n",
            "           1       0.19      0.06      0.09      7116\n",
            "\n",
            "    accuracy                           0.76     35539\n",
            "   macro avg       0.50      0.50      0.48     35539\n",
            "weighted avg       0.68      0.76      0.71     35539\n",
            "\n",
            "(0.4968754118245903, 0.49886595376754017, 0.4774254792106647, None)\n"
          ]
        },
        {
          "output_type": "display_data",
          "data": {
            "text/plain": [
              "<Figure size 360x360 with 2 Axes>"
            ],
            "image/png": "[encoded data removed]"
          },
          "metadata": {
            "needs_background": "light"
          }
        },
        {
          "output_type": "stream",
          "name": "stdout",
          "text": [
            "None\n"
          ]
        }
      ],
      "source": [
        "from sklearn import mixture\n",
        "n=2                # number of mixtures/clusters\n",
        "init = 'kmeans'    # initialisation as in k-means \n",
        "\n",
        "gmm1 = mixture.GaussianMixture(n_components=n,covariance_type='diag', max_iter=100, init_params=init, verbose=2)\n",
        "gmm1.fit(X_train)\n",
        "\n",
        "train_preds=gmm1.predict(X_train)\n",
        "val_preds_gmm=gmm1.predict(X_val)\n",
        "\n",
        "if np.sum(val_preds_gmm)>7116:\n",
        "  train_preds=1-train_preds\n",
        "  val_preds_gmm=1-val_preds_gmm\n",
        "\n",
        "cm=confusion_matrix(y_val,val_preds_gmm)\n",
        "default_rate_gmm=cm[1][0]/cm[0][0]\n",
        "print(\"Default Rate:\",default_rate_gmm)\n",
        "print('Training Accuracy', np.mean(train_preds==y_train))\n",
        "print('Validation  Accuracy', np.mean(val_preds_gmm==y_val))\n",
        "print(classification_report(y_val, val_preds_gmm))\n",
        "print(precision_recall_fscore_support(y_val, val_preds_gmm, average='macro'))\n",
        "print(confusion_matrix_heatmap(y_val, val_preds_gmm))"
      ]
    },
    {
      "cell_type": "markdown",
      "source": [
        "**Test the final model on test dataset**"
      ],
      "metadata": {
        "id": "_UW3-8be1A5l"
      }
    },
    {
      "cell_type": "code",
      "source": [
        "test_preds=gnb.predict(X_test)\n",
        "cm=confusion_matrix(y_test,test_preds)\n",
        "default_rate_test=cm[1][0]/cm[0][0]\n",
        "print(\"Default Rate:\",default_rate_test)\n",
        "print('Test  Accuracy', np.mean(test_preds==y_test))\n",
        "print(classification_report(y_test, test_preds))\n",
        "print(precision_recall_fscore_support(y_test, test_preds, average='macro'))\n",
        "print(confusion_matrix_heatmap(y_test, test_preds))"
      ],
      "metadata": {
        "colab": {
          "base_uri": "https://localhost:8080/",
          "height": 583
        },
        "id": "HCC1k6QF1LQM",
        "outputId": "e74e35c5-bee6-43e6-9aa3-6076f7a03a8f"
      },
      "execution_count": null,
      "outputs": [
        {
          "output_type": "stream",
          "name": "stdout",
          "text": [
            "Default Rate: 0.14130050950915604\n",
            "Test  Accuracy 0.5327069668498493\n",
            "              precision    recall  f1-score   support\n",
            "\n",
            "           0       0.88      0.49      0.63     40746\n",
            "           1       0.26      0.72      0.38     10023\n",
            "\n",
            "    accuracy                           0.53     50769\n",
            "   macro avg       0.57      0.60      0.50     50769\n",
            "weighted avg       0.75      0.53      0.58     50769\n",
            "\n",
            "(0.5663965871008465, 0.603522247086744, 0.5020297314660165, None)\n"
          ]
        },
        {
          "output_type": "display_data",
          "data": {
            "text/plain": [
              "<Figure size 360x360 with 2 Axes>"
            ],
            "image/png": "[encoded data removed]"
          },
          "metadata": {
            "needs_background": "light"
          }
        },
        {
          "output_type": "stream",
          "name": "stdout",
          "text": [
            "None\n"
          ]
        }
      ]
    },
    {
      "cell_type": "markdown",
      "source": [
        "**Ploting performances**"
      ],
      "metadata": {
        "id": "mXgQKwJW248y"
      }
    },
    {
      "cell_type": "code",
      "source": [
        "models=['Random Forest', 'k-Nearest Neighbours', 'Decision Tree', 'Gaussian Naive Bayes', 'XGBoost', 'Adaboost']\n",
        "accuracies=[np.mean(y_val==val_preds_rf), np.mean(y_val==val_preds_knn),np.mean(y_val==val_preds_dt), np.mean(y_val==val_preds_gnb),np.mean(y_val==val_preds_xgb),np.mean(y_val==val_preds_ada)]\n",
        "precision=[precision_score(y_val,val_preds_rf),precision_score(y_val,val_preds_knn),precision_score(y_val,val_preds_dt), precision_score(y_val,val_preds_gnb), precision_score(y_val,val_preds_xgb), precision_score(y_val,val_preds_ada)]\n",
        "recall=[recall_score(y_val,val_preds_rf),recall_score(y_val,val_preds_knn),recall_score(y_val,val_preds_dt), recall_score(y_val,val_preds_gnb), recall_score(y_val,val_preds_xgb), recall_score(y_val,val_preds_ada)]\n",
        "defaults=[default_rate_rf, default_rate_knn, default_rate_dt, default_rate_gnb, default_rate_xgb, default_rate_ada]\n",
        "test_performance=[np.mean(y_test==test_preds),precision_score(y_test,test_preds),recall_score(y_test,test_preds),default_rate_test]\n",
        "test_labels=['Accuracy', 'Precision', 'Recall', 'Default Rate']"
      ],
      "metadata": {
        "id": "JYLVQEHc24LX"
      },
      "execution_count": null,
      "outputs": []
    },
    {
      "cell_type": "code",
      "source": [
        "ind=[0,1,2,3,4,5]\n",
        "plt.plot(ind,accuracies)\n",
        "plt.scatter(ind,accuracies)\n",
        "plt.xticks(ticks=ind,labels=models,rotation=45)\n",
        "plt.title('Comparison of accuracies of various models')\n",
        "plt.show()"
      ],
      "metadata": {
        "colab": {
          "base_uri": "https://localhost:8080/",
          "height": 560
        },
        "id": "HaD_lDpNDvVr",
        "outputId": "a940622b-c101-4d65-e911-24db203ba87c"
      },
      "execution_count": null,
      "outputs": [
        {
          "output_type": "execute_result",
          "data": {
            "text/plain": [
              "([<matplotlib.axis.XTick at 0x7fbb51411f50>,\n",
              "  <matplotlib.axis.XTick at 0x7fbb51411f90>,\n",
              "  <matplotlib.axis.XTick at 0x7fbb4f276e50>,\n",
              "  <matplotlib.axis.XTick at 0x7fbb6c07a510>,\n",
              "  <matplotlib.axis.XTick at 0x7fbb6bab86d0>,\n",
              "  <matplotlib.axis.XTick at 0x7fbb6b82bdd0>],\n",
              " [Text(0, 0, 'Random Forest'),\n",
              "  Text(0, 0, 'k-Nearest Neighbours'),\n",
              "  Text(0, 0, 'Decision Tree'),\n",
              "  Text(0, 0, 'Gaussian Naive Bayes'),\n",
              "  Text(0, 0, 'XGBoost'),\n",
              "  Text(0, 0, 'Adaboost')])"
            ]
          },
          "metadata": {},
          "execution_count": 63
        },
        {
          "output_type": "display_data",
          "data": {
            "text/plain": [
              "<Figure size 432x288 with 1 Axes>"
            ],
            "image/png": "[encoded data removed]"
          },
          "metadata": {
            "needs_background": "light"
          }
        }
      ]
    },
    {
      "cell_type": "code",
      "source": [
        "ind=[0,1,2,3,4,5]\n",
        "plt.plot(ind,precision)\n",
        "plt.scatter(ind,precision)\n",
        "plt.xticks(ticks=ind,labels=models,rotation=45)\n",
        "plt.title('Comparison of precision of various models')\n",
        "plt.show()"
      ],
      "metadata": {
        "colab": {
          "base_uri": "https://localhost:8080/",
          "height": 357
        },
        "id": "jriZvCjfKp-M",
        "outputId": "2166cc67-6fa6-439b-9387-9614bf96390d"
      },
      "execution_count": null,
      "outputs": [
        {
          "output_type": "display_data",
          "data": {
            "text/plain": [
              "<Figure size 432x288 with 1 Axes>"
            ],
            "image/png": "[encoded data removed]"
          },
          "metadata": {
            "needs_background": "light"
          }
        }
      ]
    },
    {
      "cell_type": "code",
      "source": [
        "ind=[0,1,2,3,4,5]\n",
        "plt.plot(ind,recall)\n",
        "plt.scatter(ind,recall)\n",
        "plt.xticks(ticks=ind,labels=models,rotation=45)\n",
        "plt.title('Comparison of recall of various models')\n",
        "plt.show()"
      ],
      "metadata": {
        "colab": {
          "base_uri": "https://localhost:8080/",
          "height": 357
        },
        "id": "nHSvkfimJd7L",
        "outputId": "ae2d6ea3-3001-4c6b-c128-34b78cfcdfb4"
      },
      "execution_count": null,
      "outputs": [
        {
          "output_type": "display_data",
          "data": {
            "text/plain": [
              "<Figure size 432x288 with 1 Axes>"
            ],
            "image/png": "[encoded data removed]"
          },
          "metadata": {
            "needs_background": "light"
          }
        }
      ]
    },
    {
      "cell_type": "code",
      "source": [
        "ind=[0,1,2,3,4,5]\n",
        "plt.plot(ind,defaults)\n",
        "plt.scatter(ind,defaults)\n",
        "plt.xticks(ticks=ind,labels=models,rotation=45)\n",
        "plt.title('Comparison of Default Rate of various models')\n",
        "plt.show()"
      ],
      "metadata": {
        "colab": {
          "base_uri": "https://localhost:8080/",
          "height": 357
        },
        "id": "4V4iMNhDan3m",
        "outputId": "60155f29-c9fb-4a10-981c-f7d8f426a8b7"
      },
      "execution_count": null,
      "outputs": [
        {
          "output_type": "display_data",
          "data": {
            "text/plain": [
              "<Figure size 432x288 with 1 Axes>"
            ],
            "image/png": "[encoded data removed]"
          },
          "metadata": {
            "needs_background": "light"
          }
        }
      ]
    },
    {
      "cell_type": "code",
      "source": [
        "ind=[0,1,2,3]\n",
        "plt.bar(ind, test_performance, color='orange')\n",
        "# plt.scatter(ind,recall)\n",
        "plt.xticks(ticks=ind,labels=test_labels,rotation=45)\n",
        "plt.title('Comparison of recall of various models')\n",
        "plt.show()"
      ],
      "metadata": {
        "colab": {
          "base_uri": "https://localhost:8080/",
          "height": 323
        },
        "id": "Ih9nJQQhLo1x",
        "outputId": "ab4beadf-8625-4189-9168-16164dcb6000"
      },
      "execution_count": null,
      "outputs": [
        {
          "output_type": "display_data",
          "data": {
            "text/plain": [
              "<Figure size 432x288 with 1 Axes>"
            ],
            "image/png": "[encoded data removed]"
          },
          "metadata": {
            "needs_background": "light"
          }
        }
      ]
    },
    {
      "cell_type": "code",
      "source": [],
      "metadata": {
        "id": "V3Kj3ht5Mjod"
      },
      "execution_count": null,
      "outputs": []
    }
  ],
  "metadata": {
    "colab": {
      "collapsed_sections": [],
      "provenance": []
    },
    "kernelspec": {
      "display_name": "Python 3 (ipykernel)",
      "language": "python",
      "name": "python3"
    },
    "language_info": {
      "codemirror_mode": {
        "name": "ipython",
        "version": 3
      },
      "file_extension": ".py",
      "mimetype": "text/x-python",
      "name": "python",
      "nbconvert_exporter": "python",
      "pygments_lexer": "ipython3",
      "version": "3.9.7"
    }
  },
  "nbformat": 4,
  "nbformat_minor": 0
}